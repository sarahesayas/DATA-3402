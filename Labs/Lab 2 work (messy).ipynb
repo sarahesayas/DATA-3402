{
 "cells": [
  {
   "cell_type": "markdown",
   "id": "904842f8",
   "metadata": {},
   "source": [
    "Exercise 1: Write a function that creates an n by n matrix (of list of lists) which will represent the state of a Tie Tac Toe game. Let 0, 1, and 2 represent empty, \"X\", and \"O\", respectively."
   ]
  },
  {
   "cell_type": "code",
   "execution_count": 1,
   "id": "deca7d7f",
   "metadata": {},
   "outputs": [],
   "source": [
    "def tic(n):\n",
    "    \n",
    "    board = []\n",
    "    row = []\n",
    "    \n",
    "    for i in range(n):\n",
    "        row.append(0)\n",
    "        board.append(row)\n",
    "        \n",
    "    return board"
   ]
  },
  {
   "cell_type": "code",
   "execution_count": 2,
   "id": "a848cdd8",
   "metadata": {},
   "outputs": [
    {
     "data": {
      "text/plain": [
       "[[0, 0, 0], [0, 0, 0], [0, 0, 0]]"
      ]
     },
     "execution_count": 2,
     "metadata": {},
     "output_type": "execute_result"
    }
   ],
   "source": [
    "tic(3)"
   ]
  },
  {
   "cell_type": "code",
   "execution_count": 3,
   "id": "d3c55ae0",
   "metadata": {},
   "outputs": [
    {
     "name": "stdout",
     "output_type": "stream",
     "text": [
      "[0, 0, 0]\n",
      "[0, 0, 0]\n",
      "[0, 0, 0]\n"
     ]
    }
   ],
   "source": [
    "n = 3 \n",
    "\n",
    "tic_tac = tic(n)\n",
    "\n",
    "for row in tic_tac:\n",
    "    print(row)"
   ]
  },
  {
   "cell_type": "code",
   "execution_count": 4,
   "id": "347fedd9",
   "metadata": {},
   "outputs": [
    {
     "name": "stdout",
     "output_type": "stream",
     "text": [
      "[0, 1, 0]\n",
      "[0, 1, 0]\n",
      "[0, 1, 0]\n"
     ]
    }
   ],
   "source": [
    "tic_tac[1][1] = 1\n",
    "\n",
    "for row in tic_tac:\n",
    "    print(row)"
   ]
  },
  {
   "cell_type": "code",
   "execution_count": 5,
   "id": "0e01c01d",
   "metadata": {},
   "outputs": [],
   "source": [
    "def tic2(n):\n",
    "    \n",
    "    board = []\n",
    "\n",
    "    for i in range(n):\n",
    "        row = []\n",
    "        for j in range(n):\n",
    "            row.append(0)\n",
    "        board.append(row)\n",
    "        \n",
    "    return board"
   ]
  },
  {
   "cell_type": "code",
   "execution_count": 6,
   "id": "9d804ae7",
   "metadata": {
    "scrolled": true
   },
   "outputs": [
    {
     "name": "stdout",
     "output_type": "stream",
     "text": [
      "[0, 0, 0]\n",
      "[0, 1, 0]\n",
      "[0, 0, 0]\n"
     ]
    }
   ],
   "source": [
    "n = 3\n",
    "tic_tac = tic2(n)\n",
    "\n",
    "tic_tac[1][1] = 1\n",
    "\n",
    "for row in tic_tac:\n",
    "    print(row)"
   ]
  },
  {
   "cell_type": "markdown",
   "id": "4b21812a",
   "metadata": {},
   "source": [
    " \n"
   ]
  },
  {
   "cell_type": "markdown",
   "id": "34f23306",
   "metadata": {},
   "source": [
    " "
   ]
  },
  {
   "cell_type": "markdown",
   "id": "8c9b7773",
   "metadata": {},
   "source": [
    " "
   ]
  },
  {
   "cell_type": "markdown",
   "id": "a5f4fabe",
   "metadata": {},
   "source": [
    " Exercise 2: Write a function that takes 2 integers n and m as input and draws a n by m game board. For example the following is a 3x3 board:\n",
    " "
   ]
  },
  {
   "cell_type": "code",
   "execution_count": 20,
   "id": "f7559e19",
   "metadata": {},
   "outputs": [],
   "source": [
    "def tic_tac_empty(n,m):\n",
    "    for row in range(n):\n",
    "        print(\" ---\" * m)\n",
    "        \n",
    "        for column in range(m):\n",
    "            print(\"|   \", end=\"\")\n",
    "            \n",
    "        print(\"|\")\n",
    "    \n",
    "    print(\" ---\" * m)"
   ]
  },
  {
   "cell_type": "code",
   "execution_count": 24,
   "id": "4d8d03f9",
   "metadata": {},
   "outputs": [
    {
     "name": "stdout",
     "output_type": "stream",
     "text": [
      " --- --- ---\n",
      "|   |   |   |\n",
      " --- --- ---\n",
      "|   |   |   |\n",
      " --- --- ---\n",
      "|   |   |   |\n",
      " --- --- ---\n"
     ]
    }
   ],
   "source": [
    "tic_tac_empty(3,3)"
   ]
  },
  {
   "cell_type": "markdown",
   "id": "5e006e22",
   "metadata": {},
   "source": [
    "Exercise 3: Modify exercise 2, so that it takes a matrix of the form from exercise 1 and draws a tic-tac-tie board with \"X\"s and \"O\"s."
   ]
  },
  {
   "cell_type": "code",
   "execution_count": 26,
   "id": "d15b1376",
   "metadata": {},
   "outputs": [],
   "source": [
    "def tic_tac_toe(board):\n",
    "    \n",
    "    n = len(board)\n",
    "    m = len(board[0])\n",
    "    \n",
    "    for row in range(n):\n",
    "        print(\" ---\" * m)\n",
    "        \n",
    "        for column in range(m):\n",
    "            if board[row][column] == 0:\n",
    "                print(\"|   \", end=\"\")\n",
    "            elif board[row][column] == 1:\n",
    "                print(\"| X \", end=\"\")\n",
    "            elif board[row][column] == 2:\n",
    "                print(\"| O \", end=\"\")\n",
    "            \n",
    "        print(\"|\")\n",
    "    \n",
    "    print(\" ---\" * m)"
   ]
  },
  {
   "cell_type": "code",
   "execution_count": 28,
   "id": "8ef1a969",
   "metadata": {},
   "outputs": [
    {
     "name": "stdout",
     "output_type": "stream",
     "text": [
      " --- --- ---\n",
      "| X |   |   |\n",
      " --- --- ---\n",
      "|   | X |   |\n",
      " --- --- ---\n",
      "|   |   | X |\n",
      " --- --- ---\n"
     ]
    }
   ],
   "source": [
    "board = [ [1,0,0],\n",
    "          [0,1,0],\n",
    "          [0,0,1]]\n",
    "\n",
    "tic_tac_toe(board)"
   ]
  },
  {
   "cell_type": "markdown",
   "id": "2d0d17de",
   "metadata": {},
   "source": [
    "Exercise 4: Write a function that takes a n by n matrix representing a tic-tac-toe game, and returns -1, 0, 1, or 2 indicating the game is incomplete, the game is a draw, player 1 has won, or player 2 has one, respectively. Here are some example inputs you can use to test your code:"
   ]
  },
  {
   "cell_type": "code",
   "execution_count": null,
   "id": "faab7108",
   "metadata": {},
   "outputs": [],
   "source": []
  },
  {
   "cell_type": "code",
   "execution_count": null,
   "id": "5825dbd8",
   "metadata": {},
   "outputs": [],
   "source": []
  },
  {
   "cell_type": "code",
   "execution_count": null,
   "id": "5ffd62d2",
   "metadata": {},
   "outputs": [],
   "source": []
  },
  {
   "cell_type": "code",
   "execution_count": null,
   "id": "d55c7c72",
   "metadata": {},
   "outputs": [],
   "source": []
  },
  {
   "cell_type": "code",
   "execution_count": 2,
   "id": "85a168a2",
   "metadata": {},
   "outputs": [],
   "source": [
    "def tic_tac_toe(board):\n",
    "    \n",
    "    n = len(board)\n",
    "    m = len(board[0])\n",
    "    \n",
    "    for row in range(n):\n",
    "        print(\" ---\" * m)\n",
    "        \n",
    "        for column in range(m):\n",
    "            cell_value = board[row][column]\n",
    "            if cell_value == 0:\n",
    "                print(\"|   \", end=\"\")\n",
    "            elif cell_value == 1:\n",
    "                print(\"| X \", end=\"\")\n",
    "            elif cell_value == 2:\n",
    "                print(\"| O \", end=\"\")\n",
    "            \n",
    "        print(\"|\")\n",
    "        \n",
    "    print(\" ---\" * m)"
   ]
  },
  {
   "cell_type": "code",
   "execution_count": 3,
   "id": "28825be5",
   "metadata": {},
   "outputs": [
    {
     "name": "stdout",
     "output_type": "stream",
     "text": [
      " --- --- ---\n",
      "| X |   |   |\n",
      " --- --- ---\n",
      "|   | X |   |\n",
      " --- --- ---\n",
      "|   |   | X |\n",
      " --- --- ---\n"
     ]
    }
   ],
   "source": [
    "board = [[1,0,0],\n",
    "         [0,1,0],\n",
    "         [0,0,1]]\n",
    "\n",
    "tic_tac_toe(board)"
   ]
  },
  {
   "cell_type": "code",
   "execution_count": 18,
   "id": "52a034db",
   "metadata": {},
   "outputs": [],
   "source": [
    "def display(board):\n",
    "    n = len(board)\n",
    "    m = len(board[0])\n",
    "    \n",
    "    \n",
    "    for row in range(n):\n",
    "        print(\" ---\" * m)\n",
    "        \n",
    "        for column in range(m):\n",
    "            if board[row][column] == 0:\n",
    "                print(\"|   \", end=\"\")\n",
    "            elif board[row][column] == 1:\n",
    "                print(\"| X \", end=\"\")\n",
    "            elif board[row][column] == 2:\n",
    "                print(\"| O \", end=\"\")\n",
    "            \n",
    "        print(\"|\")\n",
    "        \n",
    "    print(\" ---\"*m)"
   ]
  },
  {
   "cell_type": "markdown",
   "id": "996ca833",
   "metadata": {},
   "source": [
    "Exercise 4: Write a function that takes a n by n matrix representing a tic-tac-toe game, and returns -1, 0, 1, or 2 indicating the game is incomplete, the game is a draw, player 1 has won, or player 2 has one, respectively. Here are some example inputs you can use to test your code:"
   ]
  },
  {
   "cell_type": "code",
   "execution_count": 19,
   "id": "3c2a529e",
   "metadata": {},
   "outputs": [],
   "source": [
    "def win_check(board):\n",
    "    \n",
    "    display(board)\n",
    "    \n",
    "    if ( (board[0][0]==board[0][1]==board[0][2]== 1) or (board[1][0]==board[1][1]==board[1][2]== 1) or (board[2][0]==board[2][1]==board[2][2]== 1) or (board[0][0]==board[1][0]==board[2][0]== 1) or (board[0][1]==board[1][1]==board[2][1]== 1) or (board[0][2]==board[1][2]==board[2][2]== 1) or (board[0][0]==board[1][1]==board[2][2]== 1) or (board[0][2]==board[1][1]==board[2][0]== 1) ):\n",
    "        print(\"X won!\")\n",
    "    \n",
    "    elif ( (board[0][0]==board[0][1]==board[0][2]== 2) or (board[1][0]==board[1][1]==board[1][2]== 2) or (board[2][0]==board[2][1]==board[2][2]== 2) or (board[0][0]==board[1][0]==board[2][0]== 2) or (board[0][1]==board[1][1]==board[2][1]== 2) or (board[0][2]==board[1][2]==board[2][2]== 2) or (board[0][0]==board[1][1]==board[2][2]== 2) or (board[0][2]==board[1][1]==board[2][0]== 2) ):\n",
    "        print(\"O won!\")"
   ]
  },
  {
   "cell_type": "code",
   "execution_count": 20,
   "id": "cf5e5166",
   "metadata": {},
   "outputs": [
    {
     "name": "stdout",
     "output_type": "stream",
     "text": [
      " --- --- ---\n",
      "| O |   |   |\n",
      " --- --- ---\n",
      "| O |   |   |\n",
      " --- --- ---\n",
      "| O |   | X |\n",
      " --- --- ---\n",
      "O won!\n"
     ]
    }
   ],
   "source": [
    "board = [[2,0,0],\n",
    "         [2,0,0],\n",
    "         [2,0,1]]\n",
    "\n",
    "win_check(board)"
   ]
  },
  {
   "cell_type": "code",
   "execution_count": 70,
   "id": "c9f9b6eb",
   "metadata": {},
   "outputs": [],
   "source": [
    "def check(board):\n",
    "    n = len(board)\n",
    "    m = len(board[0])\n",
    "    \n",
    "    display(board)\n",
    "    \n",
    "    def check_winner(player):\n",
    "        #for row in board:\n",
    "         #   for cell in row:\n",
    "          #      if all(cell == player):\n",
    "           #         print(f\"{player} won!\")\n",
    "                    \n",
    "        if any(all(cell == player for cell in row) for row in board) or \\\n",
    "            any(all(board[j][i] == player for j in range(n)) for i in range(n)):\n",
    "            return True\n",
    "        \n",
    "        if all(board[i][i] == player for i in range(n) or \\\n",
    "            all(board[i][n-i-1] == player for i in range(n))):\n",
    "            return True\n",
    "        \n",
    "        return False\n",
    "    \n",
    "    if check_winner(1):\n",
    "        return \"X has won\"\n",
    "    \n",
    "    if check_winner(2):\n",
    "        return \"O has won\"\n",
    "    \n",
    "    if any(0 in row for row in board):\n",
    "        return \"Incomplete game\"\n",
    "    \n",
    "    return \"Draw\""
   ]
  },
  {
   "cell_type": "code",
   "execution_count": 57,
   "id": "8e87fc41",
   "metadata": {},
   "outputs": [
    {
     "name": "stdout",
     "output_type": "stream",
     "text": [
      " --- --- ---\n",
      "| O | X | O |\n",
      " --- --- ---\n",
      "| O |   | O |\n",
      " --- --- ---\n",
      "| X | O | X |\n",
      " --- --- ---\n"
     ]
    },
    {
     "data": {
      "text/plain": [
       "'Incomplete game'"
      ]
     },
     "execution_count": 57,
     "metadata": {},
     "output_type": "execute_result"
    }
   ],
   "source": [
    "board = [[2,1,2],\n",
    "         [2,0,2],\n",
    "         [1,2,1]]\n",
    "\n",
    "check(board)"
   ]
  },
  {
   "cell_type": "code",
   "execution_count": 66,
   "id": "b887cee1",
   "metadata": {},
   "outputs": [
    {
     "data": {
      "text/plain": [
       "False"
      ]
     },
     "execution_count": 66,
     "metadata": {},
     "output_type": "execute_result"
    }
   ],
   "source": [
    "all([11==1,11==11,12==12])"
   ]
  },
  {
   "cell_type": "code",
   "execution_count": 69,
   "id": "10835bb6",
   "metadata": {},
   "outputs": [
    {
     "data": {
      "text/plain": [
       "False"
      ]
     },
     "execution_count": 69,
     "metadata": {},
     "output_type": "execute_result"
    }
   ],
   "source": [
    "any([11==1,11==1,12==2])"
   ]
  },
  {
   "cell_type": "code",
   "execution_count": 102,
   "id": "ef6d9472",
   "metadata": {},
   "outputs": [],
   "source": [
    "def check_winner(player):\n",
    "    n = len(board)\n",
    "    \n",
    "    if any(all(board[i][j] == player for i in range(n)) for j in range(n)):\n",
    "        return True\n",
    "    \n",
    "    return False"
   ]
  },
  {
   "cell_type": "code",
   "execution_count": 103,
   "id": "caecf6bd",
   "metadata": {},
   "outputs": [
    {
     "data": {
      "text/plain": [
       "True"
      ]
     },
     "execution_count": 103,
     "metadata": {},
     "output_type": "execute_result"
    }
   ],
   "source": [
    "board = [ [0,2,0],\n",
    "          [0,1,1],\n",
    "          [0,1,0]]\n",
    "\n",
    "check_winner(0)"
   ]
  },
  {
   "cell_type": "code",
   "execution_count": null,
   "id": "b6436d99",
   "metadata": {},
   "outputs": [],
   "source": []
  },
  {
   "cell_type": "code",
   "execution_count": null,
   "id": "1e3e7522",
   "metadata": {},
   "outputs": [],
   "source": []
  },
  {
   "cell_type": "code",
   "execution_count": null,
   "id": "b0ea828b",
   "metadata": {},
   "outputs": [],
   "source": []
  },
  {
   "cell_type": "code",
   "execution_count": null,
   "id": "8bf4ea2e",
   "metadata": {},
   "outputs": [],
   "source": []
  },
  {
   "cell_type": "markdown",
   "id": "82ddf249",
   "metadata": {},
   "source": [
    "Exercise 1: Write a function that creates an n by n matrix (of list of lists) which will represent the state of a Tie Tac Toe game. Let 0, 1, and 2 represent empty, \"X\", and \"O\", respectively."
   ]
  },
  {
   "cell_type": "code",
   "execution_count": 35,
   "id": "f1fcb6eb",
   "metadata": {},
   "outputs": [
    {
     "data": {
      "text/plain": [
       "[[0, 0, 0], [0, 0, 0], [0, 0, 0]]"
      ]
     },
     "execution_count": 35,
     "metadata": {},
     "output_type": "execute_result"
    }
   ],
   "source": [
    "def tic(n):\n",
    "    board = []\n",
    "    \n",
    "    for row in range(n): \n",
    "        row = []\n",
    "        for column in range(n):\n",
    "            row.append(0)\n",
    "            \n",
    "        board.append(row)\n",
    "    \n",
    "    return board\n",
    "    \n",
    "    \n",
    "tic(3)"
   ]
  },
  {
   "cell_type": "code",
   "execution_count": 36,
   "id": "5a275000",
   "metadata": {},
   "outputs": [
    {
     "name": "stdout",
     "output_type": "stream",
     "text": [
      "[0, 0, 0]\n",
      "[0, 0, 0]\n",
      "[0, 0, 0]\n"
     ]
    }
   ],
   "source": [
    "for row in tic(3):\n",
    "    print(row)"
   ]
  },
  {
   "cell_type": "markdown",
   "id": "a56f1989",
   "metadata": {},
   "source": [
    "Write a function that takes 2 integers n and m as input and draws a n by m game board. For example the following is a 3x3 board:"
   ]
  },
  {
   "cell_type": "code",
   "execution_count": 16,
   "id": "0de3e858",
   "metadata": {},
   "outputs": [],
   "source": [
    "def tic(n,m):\n",
    "    board = []\n",
    "    \n",
    "    for row in range(n):\n",
    "        row = []\n",
    "        \n",
    "        for column in range(m):\n",
    "            row.append(0)\n",
    "            \n",
    "        board.append(row)\n",
    "        \n",
    "    return board"
   ]
  },
  {
   "cell_type": "code",
   "execution_count": 17,
   "id": "cce4ec9f",
   "metadata": {},
   "outputs": [
    {
     "name": "stdout",
     "output_type": "stream",
     "text": [
      "[0, 0, 0]\n",
      "[0, 0, 0]\n",
      "[0, 0, 0]\n",
      "[0, 0, 0]\n",
      "[0, 0, 0]\n"
     ]
    }
   ],
   "source": [
    "n = 5\n",
    "m = 3\n",
    "tic_tac = tic(n,m)\n",
    "\n",
    "for row in tic(n,m):\n",
    "    print(row)"
   ]
  },
  {
   "cell_type": "code",
   "execution_count": 26,
   "id": "9ce18ff9",
   "metadata": {},
   "outputs": [],
   "source": [
    "def tic_tac(n,m):\n",
    "    \n",
    "    for row in range(n):\n",
    "        print(\" ---\" * m)\n",
    "        \n",
    "        for column in range(m):\n",
    "            print(\"|   \", end=\"\")\n",
    "            \n",
    "        print(\"|\")\n",
    "        \n",
    "    print(\" ---\"*m)"
   ]
  },
  {
   "cell_type": "code",
   "execution_count": 27,
   "id": "01e5da25",
   "metadata": {},
   "outputs": [
    {
     "name": "stdout",
     "output_type": "stream",
     "text": [
      " --- --- ---\n",
      "|   |   |   |\n",
      " --- --- ---\n",
      "|   |   |   |\n",
      " --- --- ---\n",
      "|   |   |   |\n",
      " --- --- ---\n"
     ]
    }
   ],
   "source": [
    "tic_tac(3,3)"
   ]
  },
  {
   "cell_type": "markdown",
   "id": "afd0c8ac",
   "metadata": {},
   "source": [
    "Exercise 3: Modify exercise 2, so that it takes a matrix of the form from exercise 1 and draws a tic-tac-tie board with \"X\"s and \"O\"s."
   ]
  },
  {
   "cell_type": "code",
   "execution_count": 52,
   "id": "e365729a",
   "metadata": {},
   "outputs": [],
   "source": [
    "def display(board):\n",
    "    n = len(board)\n",
    "    m = len(board[0])\n",
    "    \n",
    "    \n",
    "    for row in range(n):\n",
    "        print(\" ---\" * m)\n",
    "        \n",
    "        for column in range(m):\n",
    "            if board[row][column] == 0:\n",
    "                print(\"|   \", end=\"\")\n",
    "            elif board[row][column] == 1:\n",
    "                print(\"| X \", end=\"\")\n",
    "            elif board[row][column] == 2:\n",
    "                print(\"| O \", end=\"\")\n",
    "            \n",
    "        print(\"|\")\n",
    "        \n",
    "    print(\" ---\"*m)"
   ]
  },
  {
   "cell_type": "code",
   "execution_count": 53,
   "id": "db396eb8",
   "metadata": {},
   "outputs": [
    {
     "name": "stdout",
     "output_type": "stream",
     "text": [
      " --- --- ---\n",
      "| X |   | O |\n",
      " --- --- ---\n",
      "|   |   |   |\n",
      " --- --- ---\n",
      "|   |   | X |\n",
      " --- --- ---\n"
     ]
    }
   ],
   "source": [
    "board = [ [1,0,2],\n",
    "          [0,0,0],\n",
    "          [0,0,1]]\n",
    "\n",
    "display(board)"
   ]
  },
  {
   "cell_type": "markdown",
   "id": "8921e5ab",
   "metadata": {},
   "source": [
    "Exercise 4: Write a function that takes a n by n matrix representing a tic-tac-toe game, and returns -1, 0, 1, or 2 indicating the game is incomplete, the game is a draw, player 1 has won, or player 2 has one, respectively. Here are some example inputs you can use to test your code:"
   ]
  },
  {
   "cell_type": "code",
   "execution_count": 90,
   "id": "ab5d4132",
   "metadata": {},
   "outputs": [],
   "source": [
    "def win_check(board):\n",
    "    \n",
    "    \n",
    "    display(board)\n",
    "    \n",
    "    n = len(board)\n",
    "    m = len(board[0])\n",
    "    check = False\n",
    "    x = 0\n",
    "    \n",
    "    #check if board is full\n",
    "    for row in range(n):\n",
    "        for column in range(m):\n",
    "            if board[row][column] == 0:\n",
    "                x += 1\n",
    "    \n",
    "    #check if anyone won or board is full\n",
    "    if check == False and ( board[0][0] == board[0][1] == board[0][2] == 1) or ( board[1][0] == board[1][1] == board[1][2] == 1 ) or ( board[2][0] == board[2][1] == board[2][2] == 1 ) or ( board[0][0] == board[1][0] == board[2][0] == 1 ) or ( board[0][1] == board[1][1] == board[2][1] == 1 ) or ( board[0][2] == board[1][2] == board[2][2] == 1 ) or ( board[0][0] == board[1][1] == board[2][2] == 1 ) or ( board[0][2] == board[1][1] == board[2][0] == 1 ) == True:\n",
    "        print(\"X won!\")\n",
    "    elif check == False and ( board[0][0] == board[0][1] == board[0][2] == 2) or ( board[1][0] == board[1][1] == board[1][2] == 2 ) or ( board[2][0] == board[2][1] == board[2][2] == 2 ) or ( board[0][0] == board[1][0] == board[2][0] == 2 ) or ( board[0][1] == board[1][1] == board[2][1] == 2 ) or ( board[0][2] == board[1][2] == board[2][2] == 2 ) or ( board[0][0] == board[1][1] == board[2][2] == 2 ) or ( board[0][2] == board[1][1] == board[2][0] == 2 ) == True:\n",
    "        print(\"O won!\")\n",
    "    elif x != 0:\n",
    "        print(\"Game is incomplete!\")\n",
    "    elif check == False:\n",
    "        print(\"Game is drawn!\")"
   ]
  },
  {
   "cell_type": "code",
   "execution_count": 99,
   "id": "46158233",
   "metadata": {},
   "outputs": [
    {
     "name": "stdout",
     "output_type": "stream",
     "text": [
      " --- --- ---\n",
      "| O | X | X |\n",
      " --- --- ---\n",
      "| X |   | O |\n",
      " --- --- ---\n",
      "| X | O | X |\n",
      " --- --- ---\n",
      "Game is incomplete!\n"
     ]
    }
   ],
   "source": [
    "board = [ [2,1,1],\n",
    "          [1,0,2],\n",
    "          [1,2,1]]\n",
    "\n",
    "win_check(board)"
   ]
  },
  {
   "cell_type": "code",
   "execution_count": null,
   "id": "dbd17317",
   "metadata": {},
   "outputs": [],
   "source": []
  },
  {
   "cell_type": "markdown",
   "id": "e58b06d9",
   "metadata": {},
   "source": [
    "Exercise 5: Write a function that takes a game board, player number, and (x,y) coordinates and places \"X\" or \"O\" in the correct location of the game board. Make sure that you only allow filling previously empty locations. Return True or False to indicate successful placement of \"X\" or \"O\"."
   ]
  },
  {
   "cell_type": "code",
   "execution_count": 153,
   "id": "b2be9a82",
   "metadata": {},
   "outputs": [],
   "source": [
    "def place(board,player,x,y):\n",
    "    \n",
    "    if board[x][y] == 0 and player == 1:\n",
    "        board[x][y] = player\n",
    "        display(board)\n",
    "        return True\n",
    "        \n",
    "    elif board[x][y] == 0 and player == 2:\n",
    "        board[x][y] = player\n",
    "        display(board)\n",
    "        return True\n",
    "        \n",
    "    else:\n",
    "        display(board)\n",
    "        return False"
   ]
  },
  {
   "cell_type": "code",
   "execution_count": 158,
   "id": "ab7c43b5",
   "metadata": {},
   "outputs": [
    {
     "name": "stdout",
     "output_type": "stream",
     "text": [
      " --- --- ---\n",
      "|   |   | X |\n",
      " --- --- ---\n",
      "|   | O |   |\n",
      " --- --- ---\n",
      "|   |   |   |\n",
      " --- --- ---\n"
     ]
    },
    {
     "data": {
      "text/plain": [
       "False"
      ]
     },
     "execution_count": 158,
     "metadata": {},
     "output_type": "execute_result"
    }
   ],
   "source": [
    "board = [ [0,0,1],\n",
    "          [0,2,0],\n",
    "          [0,0,0]]\n",
    "\n",
    "place(board,2,0,2)"
   ]
  },
  {
   "cell_type": "code",
   "execution_count": null,
   "id": "d94d7a03",
   "metadata": {},
   "outputs": [],
   "source": []
  },
  {
   "cell_type": "code",
   "execution_count": null,
   "id": "64521eb6",
   "metadata": {},
   "outputs": [],
   "source": []
  },
  {
   "cell_type": "code",
   "execution_count": null,
   "id": "c9f4a260",
   "metadata": {},
   "outputs": [],
   "source": []
  },
  {
   "cell_type": "code",
   "execution_count": null,
   "id": "38b92bf3",
   "metadata": {},
   "outputs": [],
   "source": []
  },
  {
   "cell_type": "code",
   "execution_count": 116,
   "id": "0a66d19c",
   "metadata": {},
   "outputs": [],
   "source": [
    "board = [ [0,0,1],\n",
    "          [0,2,0],\n",
    "          [0,0,0] ]"
   ]
  },
  {
   "cell_type": "markdown",
   "id": "5317644f",
   "metadata": {},
   "source": [
    "Exercise 5: Write a function that takes a game board, player number, and (x,y) coordinates and places \"X\" or \"O\" in the correct location of the game board. Make sure that you only allow filling previously empty locations. Return True or False to indicate successful placement of \"X\" or \"O\"."
   ]
  },
  {
   "cell_type": "code",
   "execution_count": 117,
   "id": "082ac5b6",
   "metadata": {},
   "outputs": [],
   "source": [
    "def placement(board,player,x,y):\n",
    "    \n",
    "    if board[x][y] == 0:\n",
    "        board[x][y] = player\n",
    "        display(board)\n",
    "        return True\n",
    "    \n",
    "    display(board)\n",
    "    return False\n"
   ]
  },
  {
   "cell_type": "code",
   "execution_count": 118,
   "id": "0f18c557",
   "metadata": {},
   "outputs": [
    {
     "name": "stdout",
     "output_type": "stream",
     "text": [
      " --- --- ---\n",
      "|   |   | X |\n",
      " --- --- ---\n",
      "|   | O |   |\n",
      " --- --- ---\n",
      "|   |   |   |\n",
      " --- --- ---\n"
     ]
    }
   ],
   "source": [
    "display(board)"
   ]
  },
  {
   "cell_type": "code",
   "execution_count": 119,
   "id": "48241a7d",
   "metadata": {},
   "outputs": [
    {
     "name": "stdout",
     "output_type": "stream",
     "text": [
      " --- --- ---\n",
      "| X |   | X |\n",
      " --- --- ---\n",
      "|   | O |   |\n",
      " --- --- ---\n",
      "|   |   |   |\n",
      " --- --- ---\n"
     ]
    },
    {
     "data": {
      "text/plain": [
       "True"
      ]
     },
     "execution_count": 119,
     "metadata": {},
     "output_type": "execute_result"
    }
   ],
   "source": [
    "placement(board,1,0,0)"
   ]
  },
  {
   "cell_type": "code",
   "execution_count": 122,
   "id": "0f5e9906",
   "metadata": {},
   "outputs": [
    {
     "name": "stdout",
     "output_type": "stream",
     "text": [
      " --- --- ---\n",
      "| X | O | X |\n",
      " --- --- ---\n",
      "|   | O |   |\n",
      " --- --- ---\n",
      "|   |   |   |\n",
      " --- --- ---\n"
     ]
    },
    {
     "data": {
      "text/plain": [
       "False"
      ]
     },
     "execution_count": 122,
     "metadata": {},
     "output_type": "execute_result"
    }
   ],
   "source": [
    "placement(board,2,0,2)"
   ]
  },
  {
   "cell_type": "markdown",
   "id": "f4b7dac3",
   "metadata": {},
   "source": [
    "Exercise 6: Modify Exercise 4 to show column and row labels so that players can specify location using \"A2\" or \"C1\"."
   ]
  },
  {
   "cell_type": "code",
   "execution_count": 197,
   "id": "0cd6be10",
   "metadata": {},
   "outputs": [],
   "source": [
    "def new_display(board):\n",
    "    n = len(board)\n",
    "    m = len(board[0])\n",
    "    \n",
    "    print(\"  {} \".format(range(m)) * m)\n",
    "    \n",
    "    for row in range(n):\n",
    "        print(\" ---\" * m)\n",
    "        \n",
    "        for column in range(m):\n",
    "            if board[row][column] == 0:\n",
    "                print(\"|   \", end=\"\")\n",
    "            elif board[row][column] == 1:\n",
    "                print(\"| X \", end=\"\")\n",
    "            elif board[row][column] == 2:\n",
    "                print(\"| O \", end=\"\")\n",
    "            \n",
    "        print(\"|\")\n",
    "        \n",
    "    print(\" ---\"*m)"
   ]
  },
  {
   "cell_type": "code",
   "execution_count": 135,
   "id": "dbbc02e0",
   "metadata": {},
   "outputs": [],
   "source": [
    "board = [ [0,0,0],\n",
    "          [0,0,0],\n",
    "          [0,0,0]]"
   ]
  },
  {
   "cell_type": "code",
   "execution_count": 130,
   "id": "02a8a9b7",
   "metadata": {},
   "outputs": [
    {
     "name": "stdout",
     "output_type": "stream",
     "text": [
      " --- --- ---\n",
      "|   |   |   |\n",
      " --- --- ---\n",
      "|   |   |   |\n",
      " --- --- ---\n",
      "|   |   |   |\n",
      " --- --- ---\n"
     ]
    }
   ],
   "source": [
    "display(board)"
   ]
  },
  {
   "cell_type": "code",
   "execution_count": 198,
   "id": "dd93855c",
   "metadata": {},
   "outputs": [
    {
     "name": "stdout",
     "output_type": "stream",
     "text": [
      "  range(0, 3)   range(0, 3)   range(0, 3) \n",
      " --- --- ---\n",
      "|   |   |   |\n",
      " --- --- ---\n",
      "|   |   |   |\n",
      " --- --- ---\n",
      "|   |   |   |\n",
      " --- --- ---\n"
     ]
    }
   ],
   "source": [
    "new_display(board)"
   ]
  },
  {
   "cell_type": "code",
   "execution_count": 200,
   "id": "313e11dc",
   "metadata": {},
   "outputs": [
    {
     "name": "stdout",
     "output_type": "stream",
     "text": [
      " --- --- ---\n",
      "|   |   |   |\n",
      " --- --- ---\n",
      "|   |   |   |\n",
      " --- --- ---\n",
      "|   |   |   |\n",
      " --- --- ---\n"
     ]
    }
   ],
   "source": [
    "def new_display(board):\n",
    "    n = len(board)\n",
    "    m = len(board[0])\n",
    "    \n",
    "    # Print column labels\n",
    "    column_labels = \"   \" + \"   \".join([chr(ord('A') + i) for i in range(m)])\n",
    "    print(column_labels)\n",
    "    \n",
    "    for row in range(n):\n",
    "        print(\" ---\" * m)\n",
    "        row_label = str(row + 1)\n",
    "        print(f\"{row_label} \", end=\"\")\n",
    "        \n",
    "        for column in range(m):\n",
    "            if board[row][column] == 0:\n",
    "                print(\"|   \", end=\"\")\n",
    "            elif board[row][column] == 1:\n",
    "                print(\"| X \", end=\"\")\n",
    "            elif board[row][column] == 2:\n",
    "                print(\"| O \", end=\"\")\n",
    "            \n",
    "        print(\"|\")\n",
    "        \n",
    "    print(\" ---\" * m)\n",
    "\n",
    "# Example Tic-Tac-Toe board (3x3 matrix)\n",
    "game_board = [\n",
    "    [0, 0, 0],\n",
    "    [0, 0, 0],\n",
    "    [0, 0, 0]\n",
    "]\n",
    "\n",
    "# Display the modified board with labels\n",
    "display(game_board)"
   ]
  },
  {
   "cell_type": "code",
   "execution_count": null,
   "id": "c403b2fb",
   "metadata": {},
   "outputs": [],
   "source": []
  }
 ],
 "metadata": {
  "kernelspec": {
   "display_name": "Python 3 (ipykernel)",
   "language": "python",
   "name": "python3"
  },
  "language_info": {
   "codemirror_mode": {
    "name": "ipython",
    "version": 3
   },
   "file_extension": ".py",
   "mimetype": "text/x-python",
   "name": "python",
   "nbconvert_exporter": "python",
   "pygments_lexer": "ipython3",
   "version": "3.9.7"
  }
 },
 "nbformat": 4,
 "nbformat_minor": 5
}
