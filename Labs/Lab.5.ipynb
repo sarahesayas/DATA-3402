{
 "cells": [
  {
   "cell_type": "markdown",
   "metadata": {},
   "source": [
    "# Lab 5"
   ]
  },
  {
   "cell_type": "markdown",
   "metadata": {},
   "source": [
    "You are tasked with evaluating card counting strategies for black jack. In order to do so, you will use object oriented programming to create a playable casino style black jack game where a computer dealer plays against $n$ computer players and possibily one human player. If you don't know the rules of blackjack or card counting, please google it. \n",
    "\n",
    "A few requirements:\n",
    "* The game should utilize multiple 52-card decks. Typically the game is played with 6 decks.\n",
    "* Players should have chips.\n",
    "* Dealer's actions are predefined by rules of the game (typically hit on 16). \n",
    "* The players should be aware of all shown cards so that they can count cards.\n",
    "* Each player could have a different strategy.\n",
    "* The system should allow you to play large numbers of games, study the outcomes, and compare average winnings per hand rate for different strategies."
   ]
  },
  {
   "cell_type": "markdown",
   "metadata": {},
   "source": [
    "1. Begin by creating a classes to represent cards and decks. The deck should support more than one 52-card set. The deck should allow you to shuffle and draw cards. Include a \"plastic\" card, placed randomly in the deck. Later, when the plastic card is dealt, shuffle the cards before the next deal."
   ]
  },
  {
   "cell_type": "code",
   "execution_count": 1,
   "metadata": {},
   "outputs": [],
   "source": [
    "import random \n",
    "\n",
    "class Card:\n",
    "    def __init__(self, rank):\n",
    "        self.rank = rank\n",
    "\n",
    "    def __str__(self):\n",
    "        return f\"{self.rank}\"\n",
    "\n",
    "class Deck:\n",
    "    def __init__(self, num_decks=1):\n",
    "        ranks = ['2', '3', '4', '5', '6', '7', '8', '9', '10', 'J', 'Q', 'K', 'A']\n",
    "\n",
    "        self.cards = [Card(rank) for rank in ranks] * num_decks\n",
    "        self.plastic_card_position = random.randint(20, 30)  # Place plastic card randomly between 20 and 30 cards remaining\n",
    "        self.shuffle()\n",
    "\n",
    "    def shuffle(self):\n",
    "        random.shuffle(self.cards)\n",
    "\n",
    "    def draw_card(self):\n",
    "        return self.cards.pop(0)\n",
    "\n",
    "    def insert_plastic_card(self):\n",
    "        self.cards.insert(self.plastic_card_position, \"Plastic Card\")\n",
    "\n",
    "class Hand:\n",
    "    def __init__(self):\n",
    "        self.cards = []\n",
    "\n",
    "    def add_card(self, card):\n",
    "        self.cards.append(card)\n",
    "\n",
    "    def get_value(self):\n",
    "        value = 0\n",
    "        num_aces = 0\n",
    "\n",
    "        for card in self.cards:\n",
    "            if card.rank.isnumeric():\n",
    "                value += int(card.rank)\n",
    "            elif card.rank in ['J', 'Q', 'K']:\n",
    "                value += 10\n",
    "            elif card.rank == 'A':\n",
    "                value += 11\n",
    "                num_aces += 1\n",
    "\n",
    "        # Adjust value for aces\n",
    "        while value > 21 and num_aces:\n",
    "            value -= 10\n",
    "            num_aces -= 1\n",
    "\n",
    "        return value\n",
    "    "
   ]
  },
  {
   "cell_type": "markdown",
   "metadata": {},
   "source": [
    "2. Now design your game on a UML diagram. You may want to create classes to represent, players, a hand, and/or the game. As you work through the lab, update your UML diagram. At the end of the lab, submit your diagram (as pdf file) along with your notebook. "
   ]
  },
  {
   "cell_type": "code",
   "execution_count": 18,
   "metadata": {},
   "outputs": [],
   "source": [
    "class Player:\n",
    "    def __init__(self, name, initial_chips):\n",
    "        self.name = name\n",
    "        self.hand = Hand()\n",
    "        self.chips = initial_chips\n",
    "        \n",
    "    def show_hand(self):\n",
    "        print(f\"{self.name}'s Hand: {' '.join(str(card) for card in self.hand.cards)}\")\n",
    "\n",
    "class ComputerPlayer(Player):\n",
    "    def __init__(self, name, initial_chips):\n",
    "        super().__init__(name, initial_chips)\n",
    "\n",
    "    def show_hand(self):\n",
    "        print(f\"{self.name}'s Hand: {' '.join(str(card) for card in self.hand.cards)}\") "
   ]
  },
  {
   "cell_type": "markdown",
   "metadata": {},
   "source": [
    "3. Begin with implementing the skeleton (ie define data members and methods/functions, but do not code the logic) of the classes in your UML diagram."
   ]
  },
  {
   "cell_type": "markdown",
   "metadata": {},
   "source": [
    "4. Complete the implementation by coding the logic of all functions. For now, just implement the dealer player and human player."
   ]
  },
  {
   "cell_type": "code",
   "execution_count": 10,
   "metadata": {},
   "outputs": [
    {
     "name": "stdout",
     "output_type": "stream",
     "text": [
      "Player 1's Hand: 7 4\n",
      "Computer Dealer's Hand: 8 J\n",
      "Player 1, do you want to 'hit' or 'stand'? hit\n",
      "Player 1's Hand: 7 4 10\n",
      "Player 1, do you want to 'hit' or 'stand'? stand\n",
      "Player 1's Hand: 7 4 10\n",
      "Player 1's Hand: 7 4 10\n",
      "Player 1 wins!\n"
     ]
    }
   ],
   "source": [
    "class BlackjackGame:\n",
    "    def __init__(self, num_players=1):\n",
    "        self.deck = Deck()\n",
    "        self.players = [Player(f\"Player {i+1}\") for i in range(num_players)]\n",
    "        self.computer_player = ComputerPlayer(\"Computer Dealer\")\n",
    "\n",
    "    def deal_initial_cards(self):\n",
    "        for _ in range(2):\n",
    "            for player in self.players + [self.computer_player]:\n",
    "                player.hand.add_card(self.deck.draw_card())\n",
    "\n",
    "    def play(self):\n",
    "        self.deal_initial_cards()\n",
    "\n",
    "        for player in self.players + [self.computer_player]:\n",
    "            player.show_hand()\n",
    "    \n",
    "    def player_turn(self, player):\n",
    "        while True:\n",
    "            action = input(f\"{player.name}, do you want to 'hit' or 'stand'? \").lower()\n",
    "            if action == 'hit':\n",
    "                player.hand.add_card(self.deck.draw_card())\n",
    "                player.show_hand()\n",
    "                \n",
    "                if player.hand.get_value() > 21:\n",
    "                    print(f\"{player.name} busts! You have more than 21 points.\")\n",
    "                    break\n",
    "            elif action == 'stand':\n",
    "                player.show_hand()\n",
    "                break\n",
    "            else:\n",
    "                print(\"Invalid input. Please enter 'hit' or 'stand'.\")\n",
    "\n",
    "    def computer_turn(self):\n",
    "        while self.computer_player.hand.get_value() < 17:\n",
    "            self.computer_player.hand.add_card(self.deck.draw_card())\n",
    "\n",
    "    def play(self):\n",
    "        self.deal_initial_cards()\n",
    "        \n",
    "        for player in self.players + [self.computer_player]:\n",
    "            player.show_hand()\n",
    "\n",
    "        for player in self.players:\n",
    "            self.player_turn(player)\n",
    "\n",
    "        # Computer's turn\n",
    "        self.computer_turn()\n",
    "\n",
    "        # Determine the winner\n",
    "        for player in self.players:\n",
    "            if player.hand.get_value() > 21:\n",
    "                player.show_hand()\n",
    "                print(f\"{player.name} busted! Computer wins.\")\n",
    "            elif self.computer_player.hand.get_value() > 21:\n",
    "                player.show_hand()\n",
    "                print(f\"Computer busted! {player.name} wins.\")\n",
    "            elif player.hand.get_value() > self.computer_player.hand.get_value():\n",
    "                player.show_hand()\n",
    "                print(f\"{player.name} wins!\")\n",
    "            elif player.hand.get_value() < self.computer_player.hand.get_value():\n",
    "                player.show_hand()\n",
    "                print(f\"Computer wins. {player.name}, better luck next time!\")\n",
    "            else:\n",
    "                player.show_hand()\n",
    "                print(f\"{player.name} and Computer have a tie!\")\n",
    "\n",
    "# Let's test the game\n",
    "game = BlackjackGame(num_players=1)\n",
    "game.play()"
   ]
  },
  {
   "cell_type": "markdown",
   "metadata": {},
   "source": [
    "5.  Test. Demonstrate game play. For example, create a game of several dealer players and show that the game is functional through several rounds."
   ]
  },
  {
   "cell_type": "code",
   "execution_count": 11,
   "metadata": {},
   "outputs": [
    {
     "name": "stdout",
     "output_type": "stream",
     "text": [
      "Player 1's Hand: 3 5\n",
      "Player 2's Hand: A J\n",
      "Computer Dealer's Hand: 4 9\n",
      "Player 1, do you want to 'hit' or 'stand'? hit\n",
      "Player 1's Hand: 3 5 7\n",
      "Player 1, do you want to 'hit' or 'stand'? stand\n",
      "Player 1's Hand: 3 5 7\n",
      "Player 2, do you want to 'hit' or 'stand'? stand\n",
      "Player 2's Hand: A J\n",
      "Player 1's Hand: 3 5 7\n",
      "Computer busted! Player 1 wins.\n",
      "Player 2's Hand: A J\n",
      "Computer busted! Player 2 wins.\n"
     ]
    }
   ],
   "source": [
    "game = BlackjackGame(num_players=2)\n",
    "game.play()"
   ]
  },
  {
   "cell_type": "markdown",
   "metadata": {},
   "source": [
    "6. Implement a new player with the following strategy:\n",
    "\n",
    "    * Assign each card a value: \n",
    "        * Cards 2 to 6 are +1 \n",
    "        * Cards 7 to 9 are 0 \n",
    "        * Cards 10 through Ace are -1\n",
    "    * Compute the sum of the values for all cards seen so far.\n",
    "    * Hit if sum is very negative, stay if sum is very positive. Select a threshold for hit/stay, e.g. 0 or -2.  "
   ]
  },
  {
   "cell_type": "code",
   "execution_count": 12,
   "metadata": {},
   "outputs": [],
   "source": [
    "class CardCounterPlayer(Player):\n",
    "    def __init__(self, name, threshold=-2):\n",
    "        super().__init__(name)\n",
    "        self.threshold = threshold\n",
    "        self.card_count = 0\n",
    "\n",
    "    def update_card_count(self, card):\n",
    "        if card.rank in ['2', '3', '4', '5', '6']:\n",
    "            self.card_count += 1\n",
    "        elif card.rank in ['10', 'J', 'Q', 'K', 'A']:\n",
    "            self.card_count -= 1\n",
    "\n",
    "    def decide_action(self):\n",
    "        if self.card_count <= self.threshold:\n",
    "            return 'hit'\n",
    "        else:\n",
    "            return 'stand'\n",
    "\n",
    "class BlackjackGame:\n",
    "    def __init__(self, num_players=1):\n",
    "        self.deck = Deck()\n",
    "        self.players = [Player(f\"Player {i+1}\") for i in range(num_players)]\n",
    "        self.computer_player = ComputerPlayer(\"Computer Dealer\")\n",
    "\n",
    "    def deal_initial_cards(self):\n",
    "        for _ in range(2):\n",
    "            for player in self.players + [self.computer_player]:\n",
    "                player.hand.add_card(self.deck.draw_card())\n",
    "\n",
    "    def play(self):\n",
    "        self.deal_initial_cards()\n",
    "\n",
    "        for player in self.players + [self.computer_player]:\n",
    "            player.show_hand()\n",
    "    \n",
    "    def player_turn(self, player):\n",
    "        while True:\n",
    "            action = input(f\"{player.name}, do you want to 'hit' or 'stand'? \").lower()\n",
    "            if action == 'hit':\n",
    "                player.hand.add_card(self.deck.draw_card())\n",
    "                player.show_hand()\n",
    "                \n",
    "                if player.hand.get_value() > 21:\n",
    "                    print(f\"{player.name} busts! You have more than 21 points.\")\n",
    "                    break\n",
    "            elif action == 'stand':\n",
    "                player.show_hand()\n",
    "                break\n",
    "            else:\n",
    "                print(\"Invalid input. Please enter 'hit' or 'stand'.\")\n",
    "\n",
    "    def computer_turn(self):\n",
    "        while self.computer_player.hand.get_value() < 17:\n",
    "            self.computer_player.hand.add_card(self.deck.draw_card())\n",
    "\n",
    "    def card_counter_player_turn(self, player):\n",
    "        while True:\n",
    "            player.show_hand()\n",
    "            action = player.decide_action()\n",
    "\n",
    "            if action == 'hit':\n",
    "                player.hand.add_card(self.deck.draw_card())\n",
    "                self.computer_player.hand.add_card(self.deck.draw_card())  # Simulate the dealer's turn\n",
    "                player.update_card_count(player.hand.cards[-1])\n",
    "                if player.hand.get_value() > 21:\n",
    "                    print(f\"{player.name} busts! You have more than 21 points.\")\n",
    "                    break\n",
    "            elif action == 'stand':\n",
    "                break\n",
    "\n",
    "    def play_with_card_counter(self):\n",
    "        self.deal_initial_cards()\n",
    "\n",
    "        for player in self.players:\n",
    "            if isinstance(player, CardCounterPlayer):\n",
    "                self.card_counter_player_turn(player)\n",
    "            else:\n",
    "                self.player_turn(player)\n",
    "\n",
    "        # Computer's turn\n",
    "        self.computer_turn()\n",
    "\n",
    "        # Determine the winner\n",
    "        for player in self.players:\n",
    "            if player.hand.get_value() > 21:\n",
    "                print(f\"{player.name} busted! Computer wins.\")\n",
    "            elif self.computer_player.hand.get_value() > 21:\n",
    "                print(f\"Computer busted! {player.name} wins.\")\n",
    "            elif player.hand.get_value() > self.computer_player.hand.get_value():\n",
    "                print(f\"{player.name} wins!\")\n",
    "            elif player.hand.get_value() < self.computer_player.hand.get_value():\n",
    "                print(f\"Computer wins. {player.name}, better luck next time!\")\n",
    "            else:\n",
    "                print(f\"{player.name} and Computer have a tie!\")\n",
    "                \n",
    "    "
   ]
  },
  {
   "cell_type": "code",
   "execution_count": 13,
   "metadata": {},
   "outputs": [
    {
     "name": "stdout",
     "output_type": "stream",
     "text": [
      "Player 1, do you want to 'hit' or 'stand'? hit\n",
      "Player 1's Hand: 7 3 J\n",
      "Player 1, do you want to 'hit' or 'stand'? stand\n",
      "Player 1's Hand: 7 3 J\n",
      "Card Counter Player's Hand: 8 2\n",
      "Player 1 and Computer have a tie!\n",
      "Computer wins. Card Counter Player, better luck next time!\n"
     ]
    }
   ],
   "source": [
    "card_counter_player = CardCounterPlayer(\"Card Counter Player\")\n",
    "game = BlackjackGame(num_players=1)\n",
    "game.players.append(card_counter_player)\n",
    "game.play_with_card_counter()"
   ]
  },
  {
   "cell_type": "markdown",
   "metadata": {},
   "source": [
    "7. Create a test scenario where one player, using the above strategy, is playing with a dealer and 3 other players that follow the dealer's strategy. Each player starts with same number of chips. Play 50 rounds (or until the strategy player is out of money). Compute the strategy player's winnings. You may remove unnecessary printouts from your code (perhaps implement a verbose/quiet mode) to reduce the output."
   ]
  },
  {
   "cell_type": "markdown",
   "metadata": {},
   "source": [
    "8. Create a loop that runs 100 games of 50 rounds, as setup in previous question, and store the strategy player's chips at the end of the game (aka \"winnings\") in a list. Histogram the winnings. What is the average winnings per round? What is the standard deviation. What is the probabilty of net winning or lossing after 50 rounds?\n"
   ]
  },
  {
   "cell_type": "markdown",
   "metadata": {},
   "source": [
    "9. Repeat previous questions scanning the value of the threshold. Try at least 5 different threshold values. Can you find an optimal value?"
   ]
  },
  {
   "cell_type": "markdown",
   "metadata": {},
   "source": [
    "10. Create a new strategy based on web searches or your own ideas. Demonstrate that the new strategy will result in increased or decreased winnings. "
   ]
  }
 ],
 "metadata": {
  "kernelspec": {
   "display_name": "Python 3 (ipykernel)",
   "language": "python",
   "name": "python3"
  },
  "language_info": {
   "codemirror_mode": {
    "name": "ipython",
    "version": 3
   },
   "file_extension": ".py",
   "mimetype": "text/x-python",
   "name": "python",
   "nbconvert_exporter": "python",
   "pygments_lexer": "ipython3",
   "version": "3.9.7"
  }
 },
 "nbformat": 4,
 "nbformat_minor": 4
}
