{
 "cells": [
  {
   "cell_type": "markdown",
   "metadata": {},
   "source": [
    "# Lab 3- Object Oriented Programming\n",
    "\n",
    "For all of the exercises below, make sure you provide tests of your solutions.\n"
   ]
  },
  {
   "cell_type": "markdown",
   "metadata": {},
   "source": [
    "## 1. Write a \"counter\" class that can be incremented up to a specified maximum value, will print an error if an attempt is made to increment beyond that value, and allows reseting the counter. "
   ]
  },
  {
   "cell_type": "code",
   "execution_count": 2,
   "metadata": {},
   "outputs": [],
   "source": [
    "class Counter():\n",
    "    \n",
    "    def __init__(self, max=10):\n",
    "        self.value = 0\n",
    "        self.max = max\n",
    "\n",
    "    def add(self, number):\n",
    "        if self.value <= self.max and (self.value + number) <= self.max:\n",
    "            self.value = self.value + number\n",
    "        else:\n",
    "            print(\"Error: You've reached that max value!\")\n",
    "\n",
    "    def get_value(self):\n",
    "        return self.value\n",
    "\n",
    "    def reset(self):\n",
    "        self.value = 0\n",
    "\n",
    "    def new_max(self, number):\n",
    "        self.max = number\n",
    "        return self.max"
   ]
  },
  {
   "cell_type": "code",
   "execution_count": 3,
   "metadata": {},
   "outputs": [
    {
     "data": {
      "text/plain": [
       "0"
      ]
     },
     "execution_count": 3,
     "metadata": {},
     "output_type": "execute_result"
    }
   ],
   "source": [
    "hello = Counter()\n",
    "\n",
    "hello.get_value()"
   ]
  },
  {
   "cell_type": "code",
   "execution_count": 4,
   "metadata": {},
   "outputs": [
    {
     "data": {
      "text/plain": [
       "10"
      ]
     },
     "execution_count": 4,
     "metadata": {},
     "output_type": "execute_result"
    }
   ],
   "source": [
    "hello.add(10)\n",
    "hello.get_value()"
   ]
  },
  {
   "cell_type": "code",
   "execution_count": 5,
   "metadata": {},
   "outputs": [
    {
     "name": "stdout",
     "output_type": "stream",
     "text": [
      "Error: You've reached that max value!\n"
     ]
    }
   ],
   "source": [
    "hello.add(4)"
   ]
  },
  {
   "cell_type": "markdown",
   "metadata": {},
   "source": [
    "## 2. Copy and paste your solution to question 1 and modify it so that all the data held by the counter is private. Implement functions to check the value of the counter, check the maximum value, and check if the counter is at the maximum."
   ]
  },
  {
   "cell_type": "code",
   "execution_count": 6,
   "metadata": {},
   "outputs": [],
   "source": [
    "class PrivateCounter():\n",
    "    \n",
    "    def __init__(self, max=10):\n",
    "        self.__value = 0\n",
    "        self.__max = max\n",
    "\n",
    "    def add(self, number):\n",
    "        if self.__value <= self.__max and (self.__value + number) <= self.__max:\n",
    "            self.__value = self.__value + number\n",
    "        else:\n",
    "            print(\"Error: You've reached that max value!\")\n",
    "\n",
    "    def get_value(self):\n",
    "        return self.__value\n",
    "\n",
    "    def reset(self):\n",
    "        self.__value = 0\n",
    "\n",
    "    def new_max(self, number):\n",
    "        self.__max = number\n",
    "        return self.__max"
   ]
  },
  {
   "cell_type": "code",
   "execution_count": 7,
   "metadata": {},
   "outputs": [
    {
     "ename": "AttributeError",
     "evalue": "'PrivateCounter' object has no attribute '__value'",
     "output_type": "error",
     "traceback": [
      "\u001b[1;31m---------------------------------------------------------------------------\u001b[0m",
      "\u001b[1;31mAttributeError\u001b[0m                            Traceback (most recent call last)",
      "\u001b[1;32m~\\AppData\\Local\\Temp/ipykernel_15624/89545951.py\u001b[0m in \u001b[0;36m<module>\u001b[1;34m\u001b[0m\n\u001b[0;32m      1\u001b[0m \u001b[0mhello\u001b[0m \u001b[1;33m=\u001b[0m \u001b[0mPrivateCounter\u001b[0m\u001b[1;33m(\u001b[0m\u001b[1;33m)\u001b[0m\u001b[1;33m\u001b[0m\u001b[1;33m\u001b[0m\u001b[0m\n\u001b[1;32m----> 2\u001b[1;33m \u001b[0mhello\u001b[0m\u001b[1;33m.\u001b[0m\u001b[0m__value\u001b[0m\u001b[1;33m\u001b[0m\u001b[1;33m\u001b[0m\u001b[0m\n\u001b[0m",
      "\u001b[1;31mAttributeError\u001b[0m: 'PrivateCounter' object has no attribute '__value'"
     ]
    }
   ],
   "source": [
    "hello = PrivateCounter()\n",
    "hello.__value"
   ]
  },
  {
   "cell_type": "code",
   "execution_count": null,
   "metadata": {},
   "outputs": [],
   "source": [
    "hello.get_value()"
   ]
  },
  {
   "cell_type": "code",
   "execution_count": 8,
   "metadata": {},
   "outputs": [],
   "source": [
    "hello.add(5)"
   ]
  },
  {
   "cell_type": "code",
   "execution_count": 9,
   "metadata": {},
   "outputs": [
    {
     "name": "stdout",
     "output_type": "stream",
     "text": [
      "Error: You've reached that max value!\n"
     ]
    }
   ],
   "source": [
    "hello.reset()\n",
    "hello.add(10)\n",
    "hello.get_value()\n",
    "hello.add(1)"
   ]
  },
  {
   "cell_type": "markdown",
   "metadata": {},
   "source": [
    "## 3. Implement a class to represent a rectangle, holding the length, width, and $x$ and $y$ coordinates of a corner of the object. Implement functions that compute the area and perimeter of the rectangle. Make all data members private and privide accessors to retrieve values of data members. "
   ]
  },
  {
   "cell_type": "code",
   "execution_count": 10,
   "metadata": {},
   "outputs": [],
   "source": [
    "class Rectangle():\n",
    "    \n",
    "    def __init__(self, length, width, x, y):\n",
    "        self.__length = length\n",
    "        self.__width = width\n",
    "        self.__x, self.__y = x,y\n",
    "        \n",
    "    def area(self):\n",
    "        return self.__length * self.__width\n",
    "    \n",
    "    def perimeter(self):\n",
    "        return (2*self.__length) + (2*self.__width)\n",
    "    \n",
    "    def get_length(self):\n",
    "        return self.__length\n",
    "\n",
    "    def get_width(self):\n",
    "        return self.__width\n",
    "\n",
    "    def get_x(self):\n",
    "        return self.__x\n",
    "\n",
    "    def get_y(self):\n",
    "        return self.__y\n",
    "    \n",
    "    def get_data(self):\n",
    "        area = self.area()\n",
    "        perimeter = self.perimeter()\n",
    "        print(f\"Length = {self.__length} \\n\\nWidth = {self.__width} \\n\\nCoordinates = {(self.__x, self.__y)} \\n\\nArea = {area} \\n\\nPerimeter = {perimeter}\")"
   ]
  },
  {
   "cell_type": "code",
   "execution_count": 11,
   "metadata": {},
   "outputs": [
    {
     "name": "stdout",
     "output_type": "stream",
     "text": [
      "Length = 4 \n",
      "\n",
      "Width = 2 \n",
      "\n",
      "Coordinates = (0, 0) \n",
      "\n",
      "Area = 8 \n",
      "\n",
      "Perimeter = 12\n"
     ]
    }
   ],
   "source": [
    "mine = Rectangle(4,2,0,0)\n",
    "\n",
    "mine.get_data()"
   ]
  },
  {
   "cell_type": "code",
   "execution_count": 12,
   "metadata": {},
   "outputs": [
    {
     "data": {
      "text/plain": [
       "4"
      ]
     },
     "execution_count": 12,
     "metadata": {},
     "output_type": "execute_result"
    }
   ],
   "source": [
    "mine.get_length()"
   ]
  },
  {
   "cell_type": "code",
   "execution_count": 13,
   "metadata": {},
   "outputs": [
    {
     "ename": "AttributeError",
     "evalue": "'Rectangle' object has no attribute '__length'",
     "output_type": "error",
     "traceback": [
      "\u001b[1;31m---------------------------------------------------------------------------\u001b[0m",
      "\u001b[1;31mAttributeError\u001b[0m                            Traceback (most recent call last)",
      "\u001b[1;32m~\\AppData\\Local\\Temp/ipykernel_15624/92614307.py\u001b[0m in \u001b[0;36m<module>\u001b[1;34m\u001b[0m\n\u001b[1;32m----> 1\u001b[1;33m \u001b[0mmine\u001b[0m\u001b[1;33m.\u001b[0m\u001b[0m__length\u001b[0m\u001b[1;33m\u001b[0m\u001b[1;33m\u001b[0m\u001b[0m\n\u001b[0m",
      "\u001b[1;31mAttributeError\u001b[0m: 'Rectangle' object has no attribute '__length'"
     ]
    }
   ],
   "source": [
    "mine.__length"
   ]
  },
  {
   "cell_type": "markdown",
   "metadata": {},
   "source": [
    "## 4. Implement a class to represent a circle, holding the radius and $x$ and $y$ coordinates of center of the object. Implement functions that compute the area and perimeter of the rectangle. Make all data members private and privide accessors to retrieve values of data members. "
   ]
  },
  {
   "cell_type": "code",
   "execution_count": 14,
   "metadata": {},
   "outputs": [],
   "source": [
    "from math import pi\n",
    "\n",
    "class Circle():\n",
    "    \n",
    "    def __init__(self, radius, x, y):\n",
    "        self.__radius = radius\n",
    "        self.__x, self.__y = x,y\n",
    "        \n",
    "    def area(self):\n",
    "        return pi*(self.__radius**2)\n",
    "    \n",
    "    def perimeter(self):\n",
    "        return 2*pi*self.__radius\n",
    "    \n",
    "    def get_radius(self):\n",
    "        return self.__radius\n",
    "\n",
    "    def get_x(self):\n",
    "        return self.__x\n",
    "\n",
    "    def get_y(self):\n",
    "        return self.__y\n",
    "    \n",
    "    def get_data(self):\n",
    "        area = self.area()\n",
    "        perimeter = self.perimeter()\n",
    "        print(f\"Radius = {self.__radius} \\n\\nCoordinates = {self.__x,self.__y} \\n\\nArea = {area} \\n\\nCircumference = {perimeter}\")"
   ]
  },
  {
   "cell_type": "code",
   "execution_count": 15,
   "metadata": {},
   "outputs": [
    {
     "name": "stdout",
     "output_type": "stream",
     "text": [
      "Radius = 5 \n",
      "\n",
      "Coordinates = (0, 0) \n",
      "\n",
      "Area = 78.53981633974483 \n",
      "\n",
      "Circumference = 31.41592653589793\n"
     ]
    }
   ],
   "source": [
    "mine2 = Circle(5,0,0)\n",
    "\n",
    "mine2.get_data()"
   ]
  },
  {
   "cell_type": "markdown",
   "metadata": {},
   "source": [
    "## 5. Implement a common base class for the classes implemented in 3 and 4 above which implements all common methods as not implemented functions (virtual). Re-implement those classes to inherit from the base class and overload the functions accordingly. "
   ]
  },
  {
   "cell_type": "code",
   "execution_count": 16,
   "metadata": {},
   "outputs": [],
   "source": [
    "class Shape():\n",
    "    \n",
    "    def __init__(self):\n",
    "        pass\n",
    "    \n",
    "    def area(self):\n",
    "        raise NotImplementedError\n",
    "    \n",
    "    def perimeter(self):\n",
    "        raise NotImplementedError\n",
    "\n",
    "class Rectangle(Shape):\n",
    "    \n",
    "    def __init__(self, length, width, x, y):\n",
    "        self.__length = length\n",
    "        self.__width = width\n",
    "        self.__x, self.__y = x,y\n",
    "        \n",
    "    def area(self):\n",
    "        return self.__length * self.__width\n",
    "    \n",
    "    def perimeter(self):\n",
    "        return (2*self.__length) + (2*self.__width)\n",
    "    \n",
    "    def get_length(self):\n",
    "        return self.__length\n",
    "\n",
    "    def get_width(self):\n",
    "        return self.__width\n",
    "\n",
    "    def get_x(self):\n",
    "        return self.__x\n",
    "\n",
    "    def get_y(self):\n",
    "        return self.__y\n",
    "    \n",
    "    def get_data(self):\n",
    "        area = self.area()\n",
    "        perimeter = self.perimeter()\n",
    "        print(f\"Length = {self.__length} \\n\\nWidth = {self.__width} \\n\\nCoordinates = {(self.__x, self.__y)} \\n\\nArea = {area} \\n\\nPerimeter = {perimeter}\")\n",
    "        \n",
    "class Circle(Shape):\n",
    "    \n",
    "    def __init__(self, radius, x, y):\n",
    "        self.__radius = radius\n",
    "        self.__x, self.__y = x,y\n",
    "        \n",
    "    def area(self):\n",
    "        return pi*(self.__radius**2)\n",
    "    \n",
    "    def perimeter(self):\n",
    "        return 2*pi*self.__radius\n",
    "    \n",
    "    def get_radius(self):\n",
    "        return self.__radius\n",
    "\n",
    "    def get_x(self):\n",
    "        return self.__x\n",
    "\n",
    "    def get_y(self):\n",
    "        return self.__y\n",
    "    \n",
    "    def get_data(self):\n",
    "        area = self.area()\n",
    "        perimeter = self.perimeter()\n",
    "        print(f\"Radius = {self.__radius} \\n\\nCoordinates = {self.__x,self.__y} \\n\\nArea = {area} \\n\\nCircumference = {perimeter}\")"
   ]
  },
  {
   "cell_type": "markdown",
   "metadata": {},
   "source": [
    "## 6. Implement an analogous triangle class."
   ]
  },
  {
   "cell_type": "code",
   "execution_count": 17,
   "metadata": {},
   "outputs": [],
   "source": [
    "import math\n",
    "\n",
    "class Triangle(Shape):\n",
    "    \n",
    "    def __init__(self, side1, side2, side3, x, y):\n",
    "        self.__side1 = side1\n",
    "        self.__side2 = side2\n",
    "        self.__side3 = side3\n",
    "        self.__x,self.__y = x,y\n",
    "        \n",
    "    def is_valid(self):\n",
    "        return (self.__side1 + self.__side2 > self.__side3) and \\\n",
    "                (self.__side1 + self.__side3 > self.__side2) and \\\n",
    "                (self.__side2 + self.__side3 > self.__side1)\n",
    "    \n",
    "    def area(self):\n",
    "        if self.is_valid():\n",
    "            s = self.perimeter() / 2\n",
    "            return math.sqrt(s*(s - self.__side1)*(s - self.__side2)*(s - self.__side3))\n",
    "        else:\n",
    "            print(\"Not a valid Triangle.\")\n",
    "    \n",
    "    def perimeter(self):\n",
    "        if self.is_valid():\n",
    "            return self.__side1 + self.__side2 + self.__side3\n",
    "        else:\n",
    "            print(\"Not a valid Triangle.\")\n",
    "            \n",
    "    def get_data(self):\n",
    "        print(f\"Side 1 = {self.__side1} \\nSide 2 = {self.__side2} \\nSide 3 = {self.__side3} \\nArea = {self.area()} \\nPerimeter = {self.perimeter()}\")\n",
    "    \n",
    "    def get_x(self):\n",
    "        return self.__x\n",
    "    \n",
    "    def get_y(self):\n",
    "        return self.__y\n",
    "    \n",
    "    def get_xy(self):\n",
    "        return (self.__x,self.__y)"
   ]
  },
  {
   "cell_type": "code",
   "execution_count": 18,
   "metadata": {},
   "outputs": [
    {
     "name": "stdout",
     "output_type": "stream",
     "text": [
      "Side 1 = 4 \n",
      "Side 2 = 4 \n",
      "Side 3 = 5 \n",
      "Area = 7.806247497997997 \n",
      "Perimeter = 13\n"
     ]
    }
   ],
   "source": [
    "my_triangle = Triangle(4,4,5,0,0)\n",
    "\n",
    "my_triangle.get_data()"
   ]
  },
  {
   "cell_type": "markdown",
   "metadata": {},
   "source": [
    "## 7. Add a function to the object classes that tests if a given set of $x$ and $y$ coordinates are inside of the object."
   ]
  },
  {
   "cell_type": "code",
   "execution_count": 19,
   "metadata": {},
   "outputs": [],
   "source": [
    "class Rectangle(Shape):\n",
    "    \n",
    "    def __init__(self, length, width, x, y):\n",
    "        self.__length = length\n",
    "        self.__width = width\n",
    "        self.__x, self.__y = x,y\n",
    "        \n",
    "    def area(self):\n",
    "        return self.__length * self.__width\n",
    "    \n",
    "    def perimeter(self):\n",
    "        return (2*self.__length) + (2*self.__width)\n",
    "    \n",
    "    def get_length(self):\n",
    "        return self.__length\n",
    "\n",
    "    def get_width(self):\n",
    "        return self.__width\n",
    "\n",
    "    def get_x(self):\n",
    "        return self.__x\n",
    "\n",
    "    def get_y(self):\n",
    "        return self.__y\n",
    "    \n",
    "    def get_data(self):\n",
    "        area = self.area()\n",
    "        perimeter = self.perimeter()\n",
    "        print(f\"Length = {self.__length} \\n\\nWidth = {self.__width} \\n\\nCoordinates = {(self.__x, self.__y)} \\n\\nArea = {area} \\n\\nPerimeter = {perimeter}\")\n",
    "        \n",
    "    def check_coordinates(self,input_x,input_y):\n",
    "        x1,y1 = self.__x, self.__y\n",
    "        x2,y2 = self.__x, self.__y+self.__width\n",
    "        x3,y3 = self.__x+self.__length, self.__y+self.__width\n",
    "        x4,y4 = self.__x+self.__length, self.__y\n",
    "        \n",
    "        coord1 = (x1,y1)\n",
    "        coord2 = (x2,y2)\n",
    "        coord3 = (x3,y3)\n",
    "        coord4 = (x4,y4)\n",
    "        \n",
    "        print(coord2, coord3)\n",
    "        print(coord1, coord4)\n",
    "        \n",
    "        if x1 <= input_x <= x4 and y1 <= input_y <= y2:\n",
    "            return True\n",
    "        else:\n",
    "            return False"
   ]
  },
  {
   "cell_type": "code",
   "execution_count": 20,
   "metadata": {},
   "outputs": [
    {
     "name": "stdout",
     "output_type": "stream",
     "text": [
      "(0, 5) (10, 5)\n",
      "(0, 0) (10, 0)\n"
     ]
    },
    {
     "data": {
      "text/plain": [
       "True"
      ]
     },
     "execution_count": 20,
     "metadata": {},
     "output_type": "execute_result"
    }
   ],
   "source": [
    "rect = Rectangle(10,5,0,0)\n",
    "\n",
    "rect.check_coordinates(5,2)"
   ]
  },
  {
   "cell_type": "code",
   "execution_count": 21,
   "metadata": {},
   "outputs": [],
   "source": [
    "class Circle(Shape):\n",
    "    \n",
    "    def __init__(self, radius, x, y):\n",
    "        self.__radius = radius\n",
    "        self.__x, self.__y = x,y\n",
    "        \n",
    "    def area(self):\n",
    "        return pi*(self.__radius**2)\n",
    "    \n",
    "    def perimeter(self):\n",
    "        return 2*pi*self.__radius\n",
    "    \n",
    "    def get_radius(self):\n",
    "        return self.__radius\n",
    "\n",
    "    def get_x(self):\n",
    "        return self.__x\n",
    "\n",
    "    def get_y(self):\n",
    "        return self.__y\n",
    "    \n",
    "    def get_data(self):\n",
    "        area = self.area()\n",
    "        perimeter = self.perimeter()\n",
    "        print(f\"Radius = {self.__radius} \\n\\nCoordinates = {self.__x,self.__y} \\n\\nArea = {area} \\n\\nCircumference = {perimeter}\")\n",
    "        \n",
    "    def check_coordinates(self,input_x,input_y):\n",
    "        x0,y0 = self.__x, self.__y\n",
    "        x1,y1 = self.__x, self.__y+self.__radius\n",
    "        x2,y2 = self.__x+self.__radius, self.__y\n",
    "        x3,y3 = self.__x, self.__y-self.__radius\n",
    "        x4,y4 = self.__x-self.__radius, self.__y\n",
    "        \n",
    "        coord0 = (x0,y0)\n",
    "        coord1 = (x1,y1)\n",
    "        coord2 = (x2,y2)\n",
    "        coord3 = (x3,y3)\n",
    "        coord4 = (x4,y4)\n",
    "        \n",
    "        print(f\"\\t {coord1}\")\n",
    "        print(\" \")\n",
    "        print(f\"{coord4}  {coord0}  {coord2}\")\n",
    "        print(\" \")\n",
    "        print(f\"\\t {coord3}\")\n",
    "        \n",
    "        distance = math.sqrt((input_x - self.__x)**2 + (input_y - self.__y)**2)\n",
    "        \n",
    "        if distance <= self.__radius:\n",
    "            return True\n",
    "        else:\n",
    "            return False"
   ]
  },
  {
   "cell_type": "code",
   "execution_count": 22,
   "metadata": {
    "scrolled": true
   },
   "outputs": [
    {
     "name": "stdout",
     "output_type": "stream",
     "text": [
      "\t (0, 5)\n",
      " \n",
      "(-5, 0)  (0, 0)  (5, 0)\n",
      " \n",
      "\t (0, -5)\n"
     ]
    },
    {
     "data": {
      "text/plain": [
       "False"
      ]
     },
     "execution_count": 22,
     "metadata": {},
     "output_type": "execute_result"
    }
   ],
   "source": [
    "my_circle = Circle(5,0,0)\n",
    "\n",
    "my_circle.check_coordinates(4.9,4.9)"
   ]
  },
  {
   "cell_type": "code",
   "execution_count": 23,
   "metadata": {
    "scrolled": true
   },
   "outputs": [
    {
     "name": "stdout",
     "output_type": "stream",
     "text": [
      "\t (0, 5)\n",
      " \n",
      "(-5, 0)  (0, 0)  (5, 0)\n",
      " \n",
      "\t (0, -5)\n"
     ]
    },
    {
     "data": {
      "text/plain": [
       "True"
      ]
     },
     "execution_count": 23,
     "metadata": {},
     "output_type": "execute_result"
    }
   ],
   "source": [
    "my_circle.check_coordinates(4,3)"
   ]
  },
  {
   "cell_type": "code",
   "execution_count": 24,
   "metadata": {},
   "outputs": [],
   "source": [
    "class Triangle(Shape):\n",
    "    \n",
    "    def __init__(self, side1, side2, side3, x, y):\n",
    "        self.__side1 = side1\n",
    "        self.__side2 = side2\n",
    "        self.__side3 = side3\n",
    "        self.__x,self.__y = x,y\n",
    "        \n",
    "    def is_valid(self):\n",
    "        return (self.__side1 + self.__side2 > self.__side3) and \\\n",
    "                (self.__side1 + self.__side3 > self.__side2) and \\\n",
    "                (self.__side2 + self.__side3 > self.__side1)\n",
    "    \n",
    "    def area(self):\n",
    "        if self.is_valid():\n",
    "            s = self.perimeter() / 2\n",
    "            return math.sqrt(s*(s - self.__side1)*(s - self.__side2)*(s - self.__side3))\n",
    "        else:\n",
    "            print(\"Not a valid Triangle.\")\n",
    "    \n",
    "    def perimeter(self):\n",
    "        if self.is_valid():\n",
    "            return self.__side1 + self.__side2 + self.__side3\n",
    "        else:\n",
    "            print(\"Not a valid Triangle.\")\n",
    "            \n",
    "    def get_data(self):\n",
    "        print(f\"Side 1 = {self.__side1} \\nSide 2 = {self.__side2} \\nSide 3 = {self.__side3} \\nArea = {self.area()} \\nPerimeter = {self.perimeter()}\")\n",
    "    \n",
    "    def get_x(self):\n",
    "        return self.__x\n",
    "    \n",
    "    def get_y(self):\n",
    "        return self.__y\n",
    "    \n",
    "    def get_xy(self):\n",
    "        return (self.__x,self.__y)\n",
    "    \n",
    "    #I had to look this next part up\n",
    "    \n",
    "    def barycentric_coordinates(self, input_x, input_y):\n",
    "        denominator = (self.__side2 * self.__side3 - self.__side1 * self.__side3)\n",
    "        alpha = ((self.__side2 * (input_x - self.__x) + self.__side3 * (input_y - self.__y)) / denominator)\n",
    "        beta = ((self.__side3 * (input_x - self.__x) - self.__side1 * (input_y - self.__y)) / denominator)\n",
    "        gamma = 1 - alpha - beta\n",
    "\n",
    "        return alpha, beta, gamma\n",
    "\n",
    "    def check_coordinates(self, input_x, input_y):\n",
    "        if not self.is_valid():\n",
    "            return \"Not a valid Triangle.\"\n",
    "        else:\n",
    "            alpha, beta, gamma = self.barycentric_coordinates(input_x, input_y)\n",
    "\n",
    "            if 0 <= alpha <= 1 and 0 <= beta <= 1 and 0 <= gamma <= 1:\n",
    "                return True\n",
    "            else:\n",
    "                return False\n",
    "        "
   ]
  },
  {
   "cell_type": "code",
   "execution_count": 25,
   "metadata": {},
   "outputs": [
    {
     "data": {
      "text/plain": [
       "False"
      ]
     },
     "execution_count": 25,
     "metadata": {},
     "output_type": "execute_result"
    }
   ],
   "source": [
    "my_triangle = Triangle(3,4,5,0,0)\n",
    "\n",
    "my_triangle.check_coordinates(1,1)\n",
    "\n",
    "#Can't understand this"
   ]
  },
  {
   "cell_type": "markdown",
   "metadata": {},
   "source": [
    "## 8. Add a function to the object classes that return a list of up to 16 pairs of  $x$ and $y$ points on the parameter of the object.\n",
    "\n"
   ]
  },
  {
   "cell_type": "code",
   "execution_count": 26,
   "metadata": {},
   "outputs": [],
   "source": [
    "import math\n",
    "\n",
    "class Circle(Shape):\n",
    "    \n",
    "    def __init__(self, radius, x, y):\n",
    "        self.__radius = radius\n",
    "        self.__x, self.__y = x,y\n",
    "        \n",
    "    def area(self):\n",
    "        return pi*(self.__radius**2)\n",
    "    \n",
    "    def perimeter(self):\n",
    "        return 2*pi*self.__radius\n",
    "    \n",
    "    def get_radius(self):\n",
    "        return self.__radius\n",
    "\n",
    "    def get_x(self):\n",
    "        return self.__x\n",
    "\n",
    "    def get_y(self):\n",
    "        return self.__y\n",
    "    \n",
    "    def get_data(self):\n",
    "        area = self.area()\n",
    "        perimeter = self.perimeter()\n",
    "        print(f\"Radius = {self.__radius} \\n\\nCoordinates = {self.__x,self.__y} \\n\\nArea = {area} \\n\\nCircumference = {perimeter}\")\n",
    "        \n",
    "    def check_coordinates(self,input_x,input_y):\n",
    "        x0,y0 = self.__x, self.__y\n",
    "        x1,y1 = self.__x, self.__y+self.__radius\n",
    "        x2,y2 = self.__x+self.__radius, self.__y\n",
    "        x3,y3 = self.__x, self.__y-self.__radius\n",
    "        x4,y4 = self.__x-self.__radius, self.__y\n",
    "        \n",
    "        coord0 = (x0,y0)\n",
    "        coord1 = (x1,y1)\n",
    "        coord2 = (x2,y2)\n",
    "        coord3 = (x3,y3)\n",
    "        coord4 = (x4,y4)\n",
    "        \n",
    "        print(f\"\\t {coord1}\")\n",
    "        print(\" \")\n",
    "        print(f\"{coord4}  {coord0}  {coord2}\")\n",
    "        print(\" \")\n",
    "        print(f\"\\t {coord3}\")\n",
    "        \n",
    "        distance = math.sqrt((input_x - self.__x)**2 + (input_y - self.__y)**2)\n",
    "        \n",
    "        if distance <= self.__radius:\n",
    "            return True\n",
    "        else:\n",
    "            return False\n",
    "        \n",
    "    def parameter_points(self,num_points=16):\n",
    "        points = []\n",
    "        \n",
    "        for i in range(num_points):\n",
    "            angle = i * (2*math.pi /16)\n",
    "            x = self.__x + self.__radius*math.cos(angle)\n",
    "            y = self.__y + self.__radius*math.sin(angle)\n",
    "            points.append((x,y))\n",
    "        \n",
    "        return points"
   ]
  },
  {
   "cell_type": "code",
   "execution_count": 27,
   "metadata": {
    "scrolled": true
   },
   "outputs": [],
   "source": [
    "class Rectangle(Shape):\n",
    "    \n",
    "    def __init__(self, length, width, x, y):\n",
    "        self.__length = length\n",
    "        self.__width = width\n",
    "        self.__x, self.__y = x,y\n",
    "        \n",
    "    def area(self):\n",
    "        return self.__length * self.__width\n",
    "    \n",
    "    def perimeter(self):\n",
    "        return (2*self.__length) + (2*self.__width)\n",
    "    \n",
    "    def get_length(self):\n",
    "        return self.__length\n",
    "\n",
    "    def get_width(self):\n",
    "        return self.__width\n",
    "\n",
    "    def get_x(self):\n",
    "        return self.__x\n",
    "\n",
    "    def get_y(self):\n",
    "        return self.__y\n",
    "    \n",
    "    def get_data(self):\n",
    "        area = self.area()\n",
    "        perimeter = self.perimeter()\n",
    "        print(f\"Length = {self.__length} \\n\\nWidth = {self.__width} \\n\\nCoordinates = {(self.__x, self.__y)} \\n\\nArea = {area} \\n\\nPerimeter = {perimeter}\")\n",
    "        \n",
    "    def check_coordinates(self,input_x,input_y):\n",
    "        x1,y1 = self.__x, self.__y\n",
    "        x2,y2 = self.__x, self.__y+self.__width\n",
    "        x3,y3 = self.__x+self.__length, self.__y+self.__width\n",
    "        x4,y4 = self.__x+self.__length, self.__y\n",
    "        \n",
    "        coord1 = (x1,y1)\n",
    "        coord2 = (x2,y2)\n",
    "        coord3 = (x3,y3)\n",
    "        coord4 = (x4,y4)\n",
    "        \n",
    "        print(coord2, coord3)\n",
    "        print(coord1, coord4)\n",
    "        \n",
    "        if x1 <= input_x <= x4 and y1 <= input_y <= y2:\n",
    "            return True\n",
    "        else:\n",
    "            return False\n",
    "        \n",
    "    def parameter_points(self, num_points=16):\n",
    "        points = []\n",
    "\n",
    "        # Top side\n",
    "        for i in range(4):\n",
    "            x = self.__x + (i / 3) * self.__length\n",
    "            y = self.__y\n",
    "            points.append((x, y))\n",
    "\n",
    "        # Right side\n",
    "        for i in range(4):\n",
    "            x = self.__x + self.__length\n",
    "            y = self.__y + (i / 3) * self.__width\n",
    "            points.append((x, y))\n",
    "\n",
    "        # Bottom side\n",
    "        for i in range(4):\n",
    "            x = self.__x + (3 - i) / 3 * self.__length\n",
    "            y = self.__y + self.__width\n",
    "            points.append((x, y))\n",
    "\n",
    "        # Left side\n",
    "        for i in range(4):\n",
    "            x = self.__x\n",
    "            y = self.__y + (3 - i) / 3 * self.__width\n",
    "            points.append((x, y))\n",
    "\n",
    "        return points"
   ]
  },
  {
   "cell_type": "code",
   "execution_count": 28,
   "metadata": {
    "scrolled": true
   },
   "outputs": [
    {
     "name": "stdout",
     "output_type": "stream",
     "text": [
      "[(1.0, 2), (2.333333333333333, 2), (3.6666666666666665, 2), (5.0, 2), (5, 2.0), (5, 3.0), (5, 4.0), (5, 5.0), (5.0, 5), (3.6666666666666665, 5), (2.333333333333333, 5), (1.0, 5), (1, 5.0), (1, 4.0), (1, 3.0), (1, 2.0)]\n"
     ]
    }
   ],
   "source": [
    "rectangle = Rectangle(4, 3, 1, 2)\n",
    "parameter_points = rectangle.parameter_points()\n",
    "print(parameter_points)"
   ]
  },
  {
   "cell_type": "code",
   "execution_count": 29,
   "metadata": {},
   "outputs": [],
   "source": [
    "class Triangle(Shape):\n",
    "    \n",
    "    def __init__(self, side1, side2, side3, x, y):\n",
    "        self.__side1 = side1\n",
    "        self.__side2 = side2\n",
    "        self.__side3 = side3\n",
    "        self.__x,self.__y = x,y\n",
    "        \n",
    "    def is_valid(self):\n",
    "        return (self.__side1 + self.__side2 > self.__side3) and \\\n",
    "                (self.__side1 + self.__side3 > self.__side2) and \\\n",
    "                (self.__side2 + self.__side3 > self.__side1)\n",
    "    \n",
    "    def area(self):\n",
    "        if self.is_valid():\n",
    "            s = self.perimeter() / 2\n",
    "            return math.sqrt(s*(s - self.__side1)*(s - self.__side2)*(s - self.__side3))\n",
    "        else:\n",
    "            print(\"Not a valid Triangle.\")\n",
    "    \n",
    "    def perimeter(self):\n",
    "        if self.is_valid():\n",
    "            return self.__side1 + self.__side2 + self.__side3\n",
    "        else:\n",
    "            print(\"Not a valid Triangle.\")\n",
    "            \n",
    "    def get_data(self):\n",
    "        print(f\"Side 1 = {self.__side1} \\nSide 2 = {self.__side2} \\nSide 3 = {self.__side3} \\nArea = {self.area()} \\nPerimeter = {self.perimeter()}\")\n",
    "    \n",
    "    def get_x(self):\n",
    "        return self.__x\n",
    "    \n",
    "    def get_y(self):\n",
    "        return self.__y\n",
    "    \n",
    "    def get_xy(self):\n",
    "        return (self.__x,self.__y)\n",
    "    \n",
    "    #I had to look this next part up\n",
    "    \n",
    "    def barycentric_coordinates(self, input_x, input_y):\n",
    "        denominator = (self.__side2 * self.__side3 - self.__side1 * self.__side3)\n",
    "        alpha = ((self.__side2 * (input_x - self.__x) + self.__side3 * (input_y - self.__y)) / denominator)\n",
    "        beta = ((self.__side3 * (input_x - self.__x) - self.__side1 * (input_y - self.__y)) / denominator)\n",
    "        gamma = 1 - alpha - beta\n",
    "\n",
    "        return alpha, beta, gamma\n",
    "\n",
    "    def check_coordinates(self, input_x, input_y):\n",
    "        if not self.is_valid():\n",
    "            return \"Not a valid Triangle.\"\n",
    "        else:\n",
    "            alpha, beta, gamma = self.barycentric_coordinates(input_x, input_y)\n",
    "\n",
    "            if 0 <= alpha <= 1 and 0 <= beta <= 1 and 0 <= gamma <= 1:\n",
    "                return True\n",
    "            else:\n",
    "                return False\n",
    "            \n",
    "    def parameter_points(self, num_points=16):\n",
    "        if not self.is_valid():\n",
    "            return \"Not a valid Triangle.\"\n",
    "\n",
    "        points = []\n",
    "\n",
    "        # Side 1\n",
    "        for i in range(4):\n",
    "            x = self.__x + (i / 3) * self.__side1\n",
    "            y = self.__y\n",
    "            points.append((x, y))\n",
    "\n",
    "        # Side 2\n",
    "        for i in range(4):\n",
    "            x = self.__x + (i / 3) * self.__side2\n",
    "            y = self.__y + (i / 3) * math.sqrt(self.__side1**2 - (self.__side1 / 3 * i)**2)\n",
    "            points.append((x, y))\n",
    "\n",
    "        # Side 3\n",
    "        for i in range(4):\n",
    "            x = self.__x + self.__side1 - (i / 3) * self.__side1\n",
    "            y = self.__y + (i / 3) * math.sqrt(self.__side1**2 - (self.__side1 / 3 * i)**2)\n",
    "            points.append((x, y))\n",
    "\n",
    "        return points"
   ]
  },
  {
   "cell_type": "code",
   "execution_count": 30,
   "metadata": {},
   "outputs": [
    {
     "name": "stdout",
     "output_type": "stream",
     "text": [
      "[(1.0, 2), (2.6666666666666665, 2), (4.333333333333333, 2), (6.0, 2), (1.0, 2.0), (2.333333333333333, 3.5713484026367723), (3.6666666666666665, 4.484519974999766), (5.0, 2.0), (6.0, 2.0), (4.333333333333334, 3.5713484026367723), (2.666666666666667, 4.484519974999766), (1.0, 2.0)]\n"
     ]
    }
   ],
   "source": [
    "triangle = Triangle(5, 4, 3, 1, 2)\n",
    "parameter_points = triangle.parameter_points()\n",
    "print(parameter_points)"
   ]
  },
  {
   "cell_type": "markdown",
   "metadata": {},
   "source": [
    "## 9. Add a function in the base class of the object classes that returns true/false testing that the object overlaps with another object."
   ]
  },
  {
   "cell_type": "code",
   "execution_count": 1,
   "metadata": {},
   "outputs": [],
   "source": [
    "class Shape():\n",
    "    \n",
    "    def __init__(self):\n",
    "        pass\n",
    "\n",
    "    def area(self):\n",
    "        raise NotImplementedError\n",
    "\n",
    "    def perimeter(self):\n",
    "        raise NotImplementedError\n",
    "\n",
    "    def is_point_inside_shape(self,x,y):\n",
    "        raise NotImplementedError\n",
    "\n",
    "    def check_overlap(self, other_shape):\n",
    "        for i in other_shape.parameter_points():\n",
    "            x,y = i\n",
    "            if self.is_point_inside_shape(x,y):\n",
    "                return True\n",
    "            else:\n",
    "                return False\n",
    "\n",
    "class Rectangle(Shape):\n",
    "    \n",
    "    def __init__(self, length, width, x, y):\n",
    "        self.__length = length\n",
    "        self.__width = width\n",
    "        self.__x, self.__y = x,y\n",
    "        \n",
    "    def area(self):\n",
    "        return self.__length * self.__width\n",
    "    \n",
    "    def perimeter(self):\n",
    "        return (2*self.__length) + (2*self.__width)\n",
    "    \n",
    "    def get_length(self):\n",
    "        return self.__length\n",
    "\n",
    "    def get_width(self):\n",
    "        return self.__width\n",
    "\n",
    "    def get_x(self):\n",
    "        return self.__x\n",
    "\n",
    "    def get_y(self):\n",
    "        return self.__y\n",
    "    \n",
    "    def get_data(self):\n",
    "        area = self.area()\n",
    "        perimeter = self.perimeter()\n",
    "        print(f\"Length = {self.__length} \\n\\nWidth = {self.__width} \\n\\nCoordinates = {(self.__x, self.__y)} \\n\\nArea = {area} \\n\\nPerimeter = {perimeter}\")\n",
    "        \n",
    "    def check_coordinates(self,input_x,input_y):\n",
    "        x1,y1 = self.__x, self.__y\n",
    "        x2,y2 = self.__x, self.__y+self.__width\n",
    "        x3,y3 = self.__x+self.__length, self.__y+self.__width\n",
    "        x4,y4 = self.__x+self.__length, self.__y\n",
    "        \n",
    "        coord1 = (x1,y1)\n",
    "        coord2 = (x2,y2)\n",
    "        coord3 = (x3,y3)\n",
    "        coord4 = (x4,y4)\n",
    "        \n",
    "        #print(coord2, coord3)\n",
    "        #print(coord1, coord4)\n",
    "        \n",
    "        if x1 <= input_x <= x4 and y1 <= input_y <= y2:\n",
    "            return True\n",
    "        else:\n",
    "            return False\n",
    "        \n",
    "    def parameter_points(self, num_points=16):\n",
    "        points = []\n",
    "\n",
    "        # Top side\n",
    "        for i in range(4):\n",
    "            x = self.__x + (i / 3) * self.__length\n",
    "            y = self.__y\n",
    "            points.append((x, y))\n",
    "\n",
    "        # Right side\n",
    "        for i in range(4):\n",
    "            x = self.__x + self.__length\n",
    "            y = self.__y + (i / 3) * self.__width\n",
    "            points.append((x, y))\n",
    "\n",
    "        # Bottom side\n",
    "        for i in range(4):\n",
    "            x = self.__x + (3 - i) / 3 * self.__length\n",
    "            y = self.__y + self.__width\n",
    "            points.append((x, y))\n",
    "\n",
    "        # Left side\n",
    "        for i in range(4):\n",
    "            x = self.__x\n",
    "            y = self.__y + (3 - i) / 3 * self.__width\n",
    "            points.append((x, y))\n",
    "\n",
    "        return points\n",
    "\n",
    "    def is_point_inside_shape(self, x,y):\n",
    "        x1, y1 = self.__x, self.__y\n",
    "        x2, y2 = x1 + self.__length, y1 + self.__width\n",
    "\n",
    "        return x1 <= x <= x2 and y1 <= y <= y2\n",
    "    \n",
    "import math\n",
    "\n",
    "class Circle(Shape):\n",
    "    \n",
    "    def __init__(self, radius, x, y):\n",
    "        self.__radius = radius\n",
    "        self.__x, self.__y = x,y\n",
    "        \n",
    "    def area(self):\n",
    "        return pi*(self.__radius**2)\n",
    "    \n",
    "    def perimeter(self):\n",
    "        return 2*pi*self.__radius\n",
    "    \n",
    "    def get_radius(self):\n",
    "        return self.__radius\n",
    "\n",
    "    def get_x(self):\n",
    "        return self.__x\n",
    "\n",
    "    def get_y(self):\n",
    "        return self.__y\n",
    "    \n",
    "    def get_data(self):\n",
    "        area = self.area()\n",
    "        perimeter = self.perimeter()\n",
    "        print(f\"Radius = {self.__radius} \\n\\nCoordinates = {self.__x,self.__y} \\n\\nArea = {area} \\n\\nCircumference = {perimeter}\")\n",
    "        \n",
    "    def check_coordinates(self,input_x,input_y):\n",
    "        x0,y0 = self.__x, self.__y\n",
    "        x1,y1 = self.__x, self.__y+self.__radius\n",
    "        x2,y2 = self.__x+self.__radius, self.__y\n",
    "        x3,y3 = self.__x, self.__y-self.__radius\n",
    "        x4,y4 = self.__x-self.__radius, self.__y\n",
    "        \n",
    "        coord0 = (x0,y0)\n",
    "        coord1 = (x1,y1)\n",
    "        coord2 = (x2,y2)\n",
    "        coord3 = (x3,y3)\n",
    "        coord4 = (x4,y4)\n",
    "        \n",
    "        #print(f\"\\t {coord1}\")\n",
    "        #print(\" \")\n",
    "        #print(f\"{coord4}  {coord0}  {coord2}\")\n",
    "        #print(\" \")\n",
    "        #print(f\"\\t {coord3}\")\n",
    "        \n",
    "        distance = math.sqrt((input_x - self.__x)**2 + (input_y - self.__y)**2)\n",
    "        \n",
    "        if distance <= self.__radius:\n",
    "            return True\n",
    "        else:\n",
    "            return False\n",
    "        \n",
    "    def parameter_points(self,num_points=16):\n",
    "        points = []\n",
    "        \n",
    "        for i in range(num_points):\n",
    "            angle = i * (2*math.pi /16)\n",
    "            x = self.__x + self.__radius*math.cos(angle)\n",
    "            y = self.__y + self.__radius*math.sin(angle)\n",
    "            points.append((x,y))\n",
    "        \n",
    "        return points\n",
    "\n",
    "    def is_point_inside_shape(self, point, shape):\n",
    "        x, y = point\n",
    "        distance = math.sqrt((x - self.__x) ** 2 + (y - self.__y) ** 2)\n",
    "        return distance <= self.__radius\n",
    "\n",
    "class Triangle(Shape):\n",
    "    \n",
    "    def __init__(self, side1, side2, side3, x, y):\n",
    "        self.__side1 = side1\n",
    "        self.__side2 = side2\n",
    "        self.__side3 = side3\n",
    "        self.__x,self.__y = x,y\n",
    "        \n",
    "    def is_valid(self):\n",
    "        return (self.__side1 + self.__side2 > self.__side3) and \\\n",
    "                (self.__side1 + self.__side3 > self.__side2) and \\\n",
    "                (self.__side2 + self.__side3 > self.__side1)\n",
    "    \n",
    "    def area(self):\n",
    "        if self.is_valid():\n",
    "            s = self.perimeter() / 2\n",
    "            return math.sqrt(s*(s - self.__side1)*(s - self.__side2)*(s - self.__side3))\n",
    "        else:\n",
    "            print(\"Not a valid Triangle.\")\n",
    "    \n",
    "    def perimeter(self):\n",
    "        if self.is_valid():\n",
    "            return self.__side1 + self.__side2 + self.__side3\n",
    "        else:\n",
    "            print(\"Not a valid Triangle.\")\n",
    "            \n",
    "    def get_data(self):\n",
    "        print(f\"Side 1 = {self.__side1} \\nSide 2 = {self.__side2} \\nSide 3 = {self.__side3} \\nArea = {self.area()} \\nPerimeter = {self.perimeter()}\")\n",
    "    \n",
    "    def get_x(self):\n",
    "        return self.__x\n",
    "    \n",
    "    def get_y(self):\n",
    "        return self.__y\n",
    "    \n",
    "    def get_xy(self):\n",
    "        return (self.__x,self.__y)\n",
    "    \n",
    "    #I had to look this next part up\n",
    "    \n",
    "    def barycentric_coordinates(self, input_x, input_y):\n",
    "        denominator = (self.__side2 * self.__side3 - self.__side1 * self.__side3)\n",
    "        alpha = ((self.__side2 * (input_x - self.__x) + self.__side3 * (input_y - self.__y)) / denominator)\n",
    "        beta = ((self.__side3 * (input_x - self.__x) - self.__side1 * (input_y - self.__y)) / denominator)\n",
    "        gamma = 1 - alpha - beta\n",
    "\n",
    "        return alpha, beta, gamma\n",
    "\n",
    "    def check_coordinates(self, input_x, input_y):\n",
    "        if not self.is_valid():\n",
    "            return \"Not a valid Triangle.\"\n",
    "        else:\n",
    "            alpha, beta, gamma = self.barycentric_coordinates(input_x, input_y)\n",
    "\n",
    "            if 0 <= alpha <= 1 and 0 <= beta <= 1 and 0 <= gamma <= 1:\n",
    "                return True\n",
    "            else:\n",
    "                return False\n",
    "            \n",
    "    def parameter_points(self, num_points=16):\n",
    "        if not self.is_valid():\n",
    "            return \"Not a valid Triangle.\"\n",
    "\n",
    "        points = []\n",
    "\n",
    "        # Side 1\n",
    "        for i in range(4):\n",
    "            x = self.__x + (i / 3) * self.__side1\n",
    "            y = self.__y\n",
    "            points.append((x, y))\n",
    "\n",
    "        # Side 2\n",
    "        for i in range(4):\n",
    "            x = self.__x + (i / 3) * self.__side2\n",
    "            y = self.__y + (i / 3) * math.sqrt(self.__side1**2 - (self.__side1 / 3 * i)**2)\n",
    "            points.append((x, y))\n",
    "\n",
    "        # Side 3\n",
    "        for i in range(4):\n",
    "            x = self.__x + self.__side1 - (i / 3) * self.__side1\n",
    "            y = self.__y + (i / 3) * math.sqrt(self.__side1**2 - (self.__side1 / 3 * i)**2)\n",
    "            points.append((x, y))\n",
    "\n",
    "        return points"
   ]
  },
  {
   "cell_type": "markdown",
   "metadata": {},
   "source": [
    "## 10. Copy the `Canvas` class from lecture to in a python file creating a `paint` module. Copy your classes from above into the module and implement paint functions. Implement a `CompoundShape` class. Create a simple drawing demonstrating that all of your classes are working."
   ]
  },
  {
   "cell_type": "code",
   "execution_count": 5,
   "metadata": {},
   "outputs": [
    {
     "name": "stdout",
     "output_type": "stream",
     "text": [
      "                    \n",
      "                    \n",
      "        *******     \n",
      "                    \n",
      "                    \n",
      "     *              \n",
      "     *              \n",
      "     *              \n",
      "     *              \n",
      "     *              \n"
     ]
    }
   ],
   "source": [
    "class Canvas:\n",
    "    def __init__(self, width, height):\n",
    "        self.width = width\n",
    "        self.height = height\n",
    "        self.data = [[' '] * width for i in range(height)]\n",
    "\n",
    "    def set_pixel(self, row, col, char='*'):\n",
    "        self.data[row][col] = char\n",
    "\n",
    "    def get_pixel(self, row, col):\n",
    "        return self.data[row][col]\n",
    "    \n",
    "    def clear_canvas(self):\n",
    "        self.data = [[' '] * self.width for i in range(self.height)]\n",
    "    \n",
    "    def v_line(self, x, y, w, **kargs):\n",
    "        for i in range(x, min(x + w, self.width)):\n",
    "            if 0 <= i < self.width and 0 <= y < self.height:\n",
    "                self.set_pixel(y, i, **kargs)\n",
    "\n",
    "    def h_line(self, x, y, h, **kargs):\n",
    "        for i in range(y, min(y + h, self.height)):\n",
    "            if 0 <= x < self.width and 0 <= i < self.height:\n",
    "                self.set_pixel(i, x, **kargs)\n",
    "            \n",
    "    def line(self, x1, y1, x2, y2, **kargs):\n",
    "        slope = (y2-y1) / (x2-x1)\n",
    "        for y in range(y1,y2):\n",
    "            x= int(slope * y)\n",
    "            self.set_pixel(x,y, **kargs)\n",
    "            \n",
    "    def display(self):\n",
    "        print(\"\\n\".join([\"\".join(row) for row in self.data]))\n",
    "        \n",
    "class CompoundShape(Shape):\n",
    "    def __init__(self):\n",
    "        self.shapes = []\n",
    "\n",
    "    def add_shape(self, shape):\n",
    "        self.shapes.append(shape)\n",
    "\n",
    "    def area(self):\n",
    "        total_area = 0\n",
    "        for shape in self.shapes:\n",
    "            total_area += shape.area()\n",
    "        return total_area\n",
    "\n",
    "    def perimeter(self):\n",
    "        total_perimeter = 0\n",
    "        for shape in self.shapes:\n",
    "            total_perimeter += shape.perimeter()\n",
    "        return total_perimeter\n",
    "\n",
    "    def is_point_inside_shape(self, x, y):\n",
    "        for shape in self.shapes:\n",
    "            if shape.is_point_inside_shape(x, y):\n",
    "                return True\n",
    "        return False\n",
    "\n",
    "    def parameter_points(self, num_points=16):\n",
    "        points = []\n",
    "        for shape in self.shapes:\n",
    "            points.extend(shape.parameter_points(num_points))\n",
    "        return points\n",
    "\n",
    "# Example usage of the paint module\n",
    "if __name__ == \"__main__\":\n",
    "    canvas = Canvas(20, 10)\n",
    "\n",
    "    # Draw a rectangle\n",
    "    rectangle = Rectangle(5, 3, 2, 2)\n",
    "    canvas.clear_canvas()\n",
    "    canvas.h_line(5, 5, 10)\n",
    "    canvas.v_line(8, 2, 7)\n",
    "    canvas.display()"
   ]
  },
  {
   "cell_type": "markdown",
   "metadata": {},
   "source": [
    "## 11. Create a `RasterDrawing` class. Demonstrate that you can create a drawing made of several shapes, paint the drawing, modify the drawing, and paint it again. "
   ]
  },
  {
   "cell_type": "code",
   "execution_count": 9,
   "metadata": {},
   "outputs": [
    {
     "name": "stdout",
     "output_type": "stream",
     "text": [
      "                    \n",
      "               *    \n",
      "  *****      *****  \n",
      "  *****     ******* \n",
      "  *****     ******* \n",
      "           *********\n",
      "            ******* \n",
      "            ******* \n",
      "             *****  \n",
      "               *    \n",
      "                    \n",
      "                    \n",
      "        *****  *    \n",
      "        **********  \n",
      "        **********  \n",
      "            ******* \n",
      "             *****  \n",
      "             *****  \n",
      "               *    \n",
      "                    \n"
     ]
    }
   ],
   "source": [
    "class RasterDrawing:\n",
    "    def __init__(self):\n",
    "        self.shapes = dict()\n",
    "        self.shape_names = list()\n",
    "\n",
    "    def add_shape(self, shape):\n",
    "        if shape.name == \"\":\n",
    "            shape.name = self.assign_name()\n",
    "\n",
    "        self.shapes[shape.name] = shape\n",
    "        self.shape_names.append(shape.name)\n",
    "\n",
    "    def update(self, canvas):\n",
    "        canvas.clear_canvas()\n",
    "        self.paint(canvas)\n",
    "\n",
    "    def paint(self, canvas):\n",
    "        for shape_name in self.shape_names:\n",
    "            self.shapes[shape_name].paint(canvas)\n",
    "\n",
    "    def assign_name(self):\n",
    "        name_base = \"shape\"\n",
    "        name = name_base + \"_0\"\n",
    "\n",
    "        i = 1\n",
    "        while name in self.shapes:\n",
    "            name = name_base + \"_\" + str(i)\n",
    "\n",
    "        return name\n",
    "\n",
    "\n",
    "class Shape:\n",
    "    def __init__(self, name=\"\"):\n",
    "        self.name = name\n",
    "\n",
    "    def paint(self, canvas):\n",
    "        pass\n",
    "\n",
    "\n",
    "class Rectangle(Shape):\n",
    "    def __init__(self, name=\"\", width=5, height=3, x=2, y=2):\n",
    "        super().__init__(name)\n",
    "        self.width = width\n",
    "        self.height = height\n",
    "        self.x = x\n",
    "        self.y = y\n",
    "\n",
    "    def paint(self, canvas):\n",
    "        for i in range(max(self.x, 0), min(self.x + self.width, canvas.width)):\n",
    "            for j in range(max(self.y, 0), min(self.y + self.height, canvas.height)):\n",
    "                canvas.set_pixel(j, i, '*')\n",
    "\n",
    "\n",
    "class Circle(Shape):\n",
    "    def __init__(self, name=\"\", radius=4, x=15, y=5):\n",
    "        super().__init__(name)\n",
    "        self.radius = radius\n",
    "        self.x = x\n",
    "        self.y = y\n",
    "\n",
    "    def paint(self, canvas):\n",
    "        for i in range(max(self.x - self.radius, 0), min(self.x + self.radius + 1, canvas.width)):\n",
    "            for j in range(max(self.y - self.radius, 0), min(self.y + self.radius + 1, canvas.height)):\n",
    "                if (i - self.x) ** 2 + (j - self.y) ** 2 <= self.radius ** 2:\n",
    "                    canvas.set_pixel(j, i, '*')\n",
    "\n",
    "\n",
    "if __name__ == \"__main__\":\n",
    "    canvas = Canvas(20, 10)\n",
    "    drawing = RasterDrawing()\n",
    "\n",
    "    rectangle = Rectangle(\"rectangle\", 5, 3, 2, 2)\n",
    "    circle = Circle(\"circle\", 4, 15, 5)\n",
    "\n",
    "    drawing.add_shape(rectangle)\n",
    "    drawing.add_shape(circle)\n",
    "\n",
    "    drawing.update(canvas)\n",
    "    canvas.display()\n",
    "\n",
    "    # Modify the drawing\n",
    "    canvas.clear_canvas()\n",
    "    rectangle.x = 8\n",
    "    circle.radius = 3\n",
    "    drawing.update(canvas)\n",
    "    canvas.display()"
   ]
  },
  {
   "cell_type": "markdown",
   "metadata": {},
   "source": [
    "## 12. Implement the ability to load/save raster drawings and demonstate that your method works. One way to implement this ability:\n",
    "\n",
    "   * Overload `__repr__` functions of all objects to return strings of the python code that would construct the object.\n",
    "   \n",
    "   * In the save method of raster drawing class, store the representations into the file.\n",
    "   * Write a loader function that reads the file and uses `eval` to instantiate the object.\n",
    "\n",
    "For example:"
   ]
  },
  {
   "cell_type": "code",
   "execution_count": null,
   "metadata": {},
   "outputs": [],
   "source": [
    "class foo:\n",
    "    def __init__(self,a,b=None):\n",
    "        self.a=a\n",
    "        self.b=b\n",
    "        \n",
    "    def __repr__(self):\n",
    "        return \"foo(\"+repr(self.a)+\",\"+repr(self.b)+\")\"\n",
    "    \n",
    "    def save(self,filename):\n",
    "        f=open(filename,\"w\")\n",
    "        f.write(self.__repr__())\n",
    "        f.close()\n",
    "        \n",
    "   \n",
    "def foo_loader(filename):\n",
    "    f=open(filename,\"r\")\n",
    "    tmp=eval(f.read())\n",
    "    f.close()\n",
    "    return tmp\n"
   ]
  },
  {
   "cell_type": "code",
   "execution_count": null,
   "metadata": {},
   "outputs": [],
   "source": [
    "# Test\n",
    "print(repr(foo(1,\"hello\")))"
   ]
  },
  {
   "cell_type": "code",
   "execution_count": null,
   "metadata": {},
   "outputs": [],
   "source": [
    "# Create an object and save it\n",
    "ff=foo(1,\"hello\")\n",
    "ff.save(\"Test.foo\")"
   ]
  },
  {
   "cell_type": "code",
   "execution_count": null,
   "metadata": {},
   "outputs": [],
   "source": [
    "# Check contents of the saved file\n",
    "!cat Test.foo"
   ]
  },
  {
   "cell_type": "code",
   "execution_count": null,
   "metadata": {},
   "outputs": [],
   "source": [
    "# Load the object\n",
    "ff_reloaded=foo_loader(\"Test.foo\")\n",
    "ff_reloaded"
   ]
  },
  {
   "cell_type": "code",
   "execution_count": null,
   "metadata": {},
   "outputs": [],
   "source": []
  },
  {
   "cell_type": "code",
   "execution_count": null,
   "metadata": {},
   "outputs": [],
   "source": []
  }
 ],
 "metadata": {
  "kernelspec": {
   "display_name": "Python 3 (ipykernel)",
   "language": "python",
   "name": "python3"
  },
  "language_info": {
   "codemirror_mode": {
    "name": "ipython",
    "version": 3
   },
   "file_extension": ".py",
   "mimetype": "text/x-python",
   "name": "python",
   "nbconvert_exporter": "python",
   "pygments_lexer": "ipython3",
   "version": "3.9.7"
  }
 },
 "nbformat": 4,
 "nbformat_minor": 2
}
