{
 "cells": [
  {
   "cell_type": "markdown",
   "metadata": {},
   "source": [
    "# Quiz 2\n",
    "Write a function make_deck that returns a list of all of the cards in a standard card deck. The return should be a list of tuples of pairs of suit and value. For example the 10 of Clubs would be ('Clubs', 10) and Queen of Hearts would be ('Hearts', 'Queen'). Recall that a deck has 52 cards, divided into 4 suits (Clubs, Diamonds, Hearts, and Spades), and that each suit has 13 cards: 2 to 10, Jack, Queen, King, and Ace. Summit your solution with Lab 2."
   ]
  },
  {
   "cell_type": "code",
   "execution_count": 1,
   "metadata": {},
   "outputs": [],
   "source": [
    "def make_deck():\n",
    "    suits = ['Clubs', 'Diamonds', 'Hearts', 'Spades']\n",
    "    values = [2, 3, 4, 5, 6, 7, 8, 9, 10, 'Jack', 'Queen', 'King', 'Ace']\n",
    "    \n",
    "    deck = [(suit, value) for suit in suits for value in values]\n",
    "    return deck\n"
   ]
  },
  {
   "cell_type": "markdown",
   "metadata": {},
   "source": [
    "## Lab 2- Tic Tac Toe\n",
    "\n",
    "In this lab your will build a n x n Tic Tac Toe game. As you do the exercises, make sure your solutions work for any size Tic Tac Toe game. "
   ]
  },
  {
   "cell_type": "markdown",
   "metadata": {},
   "source": [
    "*Exercise 1:* Write a function that creates an n by n matrix (of list of lists) which will represent the state of a Tie Tac Toe game. Let 0, 1, and 2 represent empty, \"X\", and \"O\", respectively.\n"
   ]
  },
  {
   "cell_type": "code",
   "execution_count": 1,
   "metadata": {},
   "outputs": [],
   "source": [
    "# Write you solution here\n",
    "\n",
    "def tic(n):\n",
    "    board = []\n",
    "    \n",
    "    for rows in range(n):\n",
    "        row = []\n",
    "        for columns in range(n):\n",
    "            row.append(0)\n",
    "        board.append(row)\n",
    "        \n",
    "    return board"
   ]
  },
  {
   "cell_type": "code",
   "execution_count": 2,
   "metadata": {},
   "outputs": [
    {
     "name": "stdout",
     "output_type": "stream",
     "text": [
      "[1, 0, 0]\n",
      "[0, 1, 0]\n",
      "[0, 0, 1]\n"
     ]
    }
   ],
   "source": [
    "# Test your solution here\n",
    "n = 3\n",
    "tic_tac_toe = tic(n)\n",
    "\n",
    "tic_tac_toe[0][0] = 1\n",
    "tic_tac_toe[1][1] = 1\n",
    "tic_tac_toe[2][2] = 1\n",
    "\n",
    "for row in tic_tac_toe:\n",
    "    print(row)"
   ]
  },
  {
   "cell_type": "markdown",
   "metadata": {},
   "source": [
    "*Exercise 2:* Write a function that takes 2 integers `n` and `m` as input and draws a `n` by `m` game board. For example the following is a 3x3 board:\n",
    "```\n",
    "   --- --- --- \n",
    "  |   |   |   | \n",
    "   --- --- ---  \n",
    "  |   |   |   | \n",
    "   --- --- ---  \n",
    "  |   |   |   | \n",
    "   --- --- --- \n",
    "   ```"
   ]
  },
  {
   "cell_type": "code",
   "execution_count": 3,
   "metadata": {},
   "outputs": [],
   "source": [
    "# Write you solution here\n",
    "\n",
    "def two_int(n,m):\n",
    "    \n",
    "    for row in range(n):\n",
    "        print(\" ---\" * m)\n",
    "        \n",
    "        for column in range(m):\n",
    "            print(\"|   \", end=\"\")\n",
    "            \n",
    "        print(\"|\")\n",
    "        \n",
    "    print(\" ---\" * m)"
   ]
  },
  {
   "cell_type": "code",
   "execution_count": 4,
   "metadata": {},
   "outputs": [
    {
     "name": "stdout",
     "output_type": "stream",
     "text": [
      " --- --- ---\n",
      "|   |   |   |\n",
      " --- --- ---\n",
      "|   |   |   |\n",
      " --- --- ---\n",
      "|   |   |   |\n",
      " --- --- ---\n"
     ]
    }
   ],
   "source": [
    "# Test your solution here\n",
    "two_int(3,3)"
   ]
  },
  {
   "cell_type": "markdown",
   "metadata": {},
   "source": [
    "*Exercise 3:* Modify exercise 2, so that it takes a matrix of the form from exercise 1 and draws a tic-tac-tie board with \"X\"s and \"O\"s.  "
   ]
  },
  {
   "cell_type": "code",
   "execution_count": 5,
   "metadata": {},
   "outputs": [],
   "source": [
    "# Write you solution here\n",
    "\n",
    "def display(board):\n",
    "    n = len(board)\n",
    "    m = len(board[0])\n",
    "    \n",
    "    \n",
    "    for row in range(n):\n",
    "        print(\" ---\" * m)\n",
    "        \n",
    "        for column in range(m):\n",
    "            if board[row][column] == 0:\n",
    "                print(\"|   \", end=\"\")\n",
    "            elif board[row][column] == 1:\n",
    "                print(\"| X \", end=\"\")\n",
    "            elif board[row][column] == 2:\n",
    "                print(\"| O \", end=\"\")\n",
    "            \n",
    "        print(\"|\")\n",
    "        \n",
    "    print(\" ---\"*m)"
   ]
  },
  {
   "cell_type": "code",
   "execution_count": 6,
   "metadata": {},
   "outputs": [
    {
     "name": "stdout",
     "output_type": "stream",
     "text": [
      " --- --- ---\n",
      "| X |   | O |\n",
      " --- --- ---\n",
      "|   |   |   |\n",
      " --- --- ---\n",
      "|   |   | X |\n",
      " --- --- ---\n"
     ]
    }
   ],
   "source": [
    "# Test your solution here\n",
    "board = [ [1,0,2],\n",
    "          [0,0,0],\n",
    "          [0,0,1]]\n",
    "\n",
    "display(board)"
   ]
  },
  {
   "cell_type": "markdown",
   "metadata": {},
   "source": [
    "*Exercise 4:* Write a function that takes a `n` by `n` matrix representing a tic-tac-toe game, and returns -1, 0, 1, or 2 indicating the game is incomplete, the game is a draw, player 1 has won, or player 2 has one, respectively. Here are some example inputs you can use to test your code:"
   ]
  },
  {
   "cell_type": "code",
   "execution_count": 7,
   "metadata": {},
   "outputs": [],
   "source": [
    "# Write you solution here\n",
    "def win_check(board):\n",
    "    \n",
    "    \n",
    "    display(board)\n",
    "    \n",
    "    n = len(board)\n",
    "    m = len(board[0])\n",
    "    check = False\n",
    "    x = 0\n",
    "    \n",
    "    #check if board is full\n",
    "    for row in range(n):\n",
    "        for column in range(m):\n",
    "            if board[row][column] == 0:\n",
    "                x += 1\n",
    "    \n",
    "    #check if anyone won or board is full\n",
    "    if check == False and ( board[0][0] == board[0][1] == board[0][2] == 1) or ( board[1][0] == board[1][1] == board[1][2] == 1 ) or ( board[2][0] == board[2][1] == board[2][2] == 1 ) or ( board[0][0] == board[1][0] == board[2][0] == 1 ) or ( board[0][1] == board[1][1] == board[2][1] == 1 ) or ( board[0][2] == board[1][2] == board[2][2] == 1 ) or ( board[0][0] == board[1][1] == board[2][2] == 1 ) or ( board[0][2] == board[1][1] == board[2][0] == 1 ) == True:\n",
    "        print(\"X won!\")\n",
    "    elif check == False and ( board[0][0] == board[0][1] == board[0][2] == 2) or ( board[1][0] == board[1][1] == board[1][2] == 2 ) or ( board[2][0] == board[2][1] == board[2][2] == 2 ) or ( board[0][0] == board[1][0] == board[2][0] == 2 ) or ( board[0][1] == board[1][1] == board[2][1] == 2 ) or ( board[0][2] == board[1][2] == board[2][2] == 2 ) or ( board[0][0] == board[1][1] == board[2][2] == 2 ) or ( board[0][2] == board[1][1] == board[2][0] == 2 ) == True:\n",
    "        print(\"O won!\")\n",
    "    elif x != 0:\n",
    "        print(\"Game is incomplete!\")\n",
    "    elif check == False:\n",
    "        print(\"Game is drawn!\")"
   ]
  },
  {
   "cell_type": "code",
   "execution_count": 8,
   "metadata": {
    "scrolled": true
   },
   "outputs": [
    {
     "name": "stdout",
     "output_type": "stream",
     "text": [
      " --- --- ---\n",
      "| O | X | X |\n",
      " --- --- ---\n",
      "| X | O | O |\n",
      " --- --- ---\n",
      "| X | O | X |\n",
      " --- --- ---\n",
      "Game is drawn!\n"
     ]
    }
   ],
   "source": [
    "# Test your solution here\n",
    "board = [ [2,1,1],\n",
    "          [1,2,2],\n",
    "          [1,2,1]]\n",
    "\n",
    "win_check(board)"
   ]
  },
  {
   "cell_type": "code",
   "execution_count": 9,
   "metadata": {},
   "outputs": [],
   "source": [
    "# Another way (looked up)"
   ]
  },
  {
   "cell_type": "code",
   "execution_count": 10,
   "metadata": {},
   "outputs": [],
   "source": [
    "from IPython.display import clear_output\n",
    "\n",
    "def check(board):\n",
    "    n = len(board)\n",
    "    m = len(board[0])\n",
    "    \n",
    "    clear_output\n",
    "    display(board)\n",
    "    \n",
    "    def check_winner(player):\n",
    "         \n",
    "        # Checking rows/columns\n",
    "        if any(all(cell == player for cell in row) for row in board) or \\\n",
    "            any(all(board[i][j] == player for i in range(n)) for j in range(n)):\n",
    "            return True\n",
    "        \n",
    "        # Checking diagonals\n",
    "        if all(board[i][i] == player for i in range(n)) or \\\n",
    "               all(board[i][n-i-1] == player for i in range(n)):\n",
    "            return True\n",
    "        \n",
    "        return False\n",
    "    \n",
    "    if check_winner(1):\n",
    "        return 1 #\"X has won\" \n",
    "    \n",
    "    if check_winner(2):\n",
    "        return 2 # \"O has won\"\n",
    "    \n",
    "    if any(0 in row for row in board):\n",
    "        return -1 # \"Incomplete game\"\n",
    "    \n",
    "    return 0 # Draw"
   ]
  },
  {
   "cell_type": "code",
   "execution_count": 11,
   "metadata": {},
   "outputs": [
    {
     "name": "stdout",
     "output_type": "stream",
     "text": [
      " --- --- ---\n",
      "| O | X | X |\n",
      " --- --- ---\n",
      "| O | X | O |\n",
      " --- --- ---\n",
      "|   | X | X |\n",
      " --- --- ---\n"
     ]
    },
    {
     "data": {
      "text/plain": [
       "1"
      ]
     },
     "execution_count": 11,
     "metadata": {},
     "output_type": "execute_result"
    }
   ],
   "source": [
    "board = [[2,1,1],\n",
    "         [2,1,2],\n",
    "         [0,1,1]]\n",
    "\n",
    "check(board)"
   ]
  },
  {
   "cell_type": "code",
   "execution_count": 12,
   "metadata": {},
   "outputs": [],
   "source": [
    "winner_is_2 = [[2, 2, 0],\n",
    "\t[2, 1, 0],\n",
    "\t[2, 1, 1]]\n",
    "\n",
    "winner_is_1 = [[1, 2, 0],\n",
    "\t[2, 1, 0],\n",
    "\t[2, 1, 1]]\n",
    "\n",
    "winner_is_also_1 = [[0, 1, 0],\n",
    "\t[2, 1, 0],\n",
    "\t[2, 1, 1]]\n",
    "\n",
    "no_winner = [[1, 2, 0],\n",
    "\t[2, 1, 0],\n",
    "\t[2, 1, 2]]\n",
    "\n",
    "also_no_winner = [[1, 2, 0],\n",
    "\t[2, 1, 0],\n",
    "\t[2, 1, 0]]"
   ]
  },
  {
   "cell_type": "markdown",
   "metadata": {},
   "source": [
    "*Exercise 5:* Write a function that takes a game board, player number, and `(x,y)` coordinates and places \"X\" or \"O\" in the correct location of the game board. Make sure that you only allow filling previously empty locations. Return `True` or `False` to indicate successful placement of \"X\" or \"O\"."
   ]
  },
  {
   "cell_type": "code",
   "execution_count": 13,
   "metadata": {},
   "outputs": [],
   "source": [
    "# Write you solution here\n",
    "def placement(board,player,x,y):\n",
    "    \n",
    "    if board[x][y] == 0:\n",
    "        board[x][y] = player\n",
    "        display(board)\n",
    "        return True\n",
    "    \n",
    "    display(board)\n",
    "    return False"
   ]
  },
  {
   "cell_type": "code",
   "execution_count": 14,
   "metadata": {},
   "outputs": [
    {
     "name": "stdout",
     "output_type": "stream",
     "text": [
      " --- --- ---\n",
      "|   |   | X |\n",
      " --- --- ---\n",
      "|   | O |   |\n",
      " --- --- ---\n",
      "|   |   |   |\n",
      " --- --- ---\n"
     ]
    }
   ],
   "source": [
    "# Test your solution here\n",
    "board = [ [0,0,1],\n",
    "          [0,2,0],\n",
    "          [0,0,0]]\n",
    "\n",
    "display(board)"
   ]
  },
  {
   "cell_type": "code",
   "execution_count": 15,
   "metadata": {
    "scrolled": true
   },
   "outputs": [
    {
     "name": "stdout",
     "output_type": "stream",
     "text": [
      " --- --- ---\n",
      "| X |   | X |\n",
      " --- --- ---\n",
      "|   | O |   |\n",
      " --- --- ---\n",
      "|   |   |   |\n",
      " --- --- ---\n"
     ]
    },
    {
     "data": {
      "text/plain": [
       "True"
      ]
     },
     "execution_count": 15,
     "metadata": {},
     "output_type": "execute_result"
    }
   ],
   "source": [
    "placement(board,1,0,0)"
   ]
  },
  {
   "cell_type": "code",
   "execution_count": 16,
   "metadata": {},
   "outputs": [
    {
     "name": "stdout",
     "output_type": "stream",
     "text": [
      " --- --- ---\n",
      "| X |   | X |\n",
      " --- --- ---\n",
      "|   | O |   |\n",
      " --- --- ---\n",
      "|   |   |   |\n",
      " --- --- ---\n"
     ]
    },
    {
     "data": {
      "text/plain": [
       "False"
      ]
     },
     "execution_count": 16,
     "metadata": {},
     "output_type": "execute_result"
    }
   ],
   "source": [
    "placement(board,1,1,1)"
   ]
  },
  {
   "cell_type": "markdown",
   "metadata": {},
   "source": [
    "*Exercise 6:* Modify Exercise 4 to show column and row labels so that players can specify location using \"A2\" or \"C1\"."
   ]
  },
  {
   "cell_type": "code",
   "execution_count": 17,
   "metadata": {},
   "outputs": [],
   "source": [
    "# Write you solution here\n",
    "from IPython.display import clear_output\n",
    "\n",
    "def new_disp(board):\n",
    "    clear_output()\n",
    "    num_rows = len(board)\n",
    "    num_cols = len(board[0])\n",
    "    \n",
    "    row_labels = [ chr(65 + i) for i in range(num_rows)]\n",
    "    col_labels = [ str(i) for i in range(1, num_cols + 1)]\n",
    "    \n",
    "    print('    ' + '   '.join(col_labels))\n",
    "    print(\"  \" + \" ---\" * num_cols )\n",
    "    \n",
    "    for row in range(num_rows):\n",
    "        print(row_labels[row] + \" \", end=\"\")\n",
    "        \n",
    "        for column in range(num_cols):\n",
    "            if board[row][column] == 0:\n",
    "                print(\"|   \", end=\"\")\n",
    "            elif board[row][column] == 1:\n",
    "                print(\"| X \", end=\"\")\n",
    "            elif board[row][column] == 2:\n",
    "                print(\"| O \", end=\"\")\n",
    "        print(\"|\", end=\"\")\n",
    "        \n",
    "        print(\"\\n  \" + \" ---\" * num_cols ) "
   ]
  },
  {
   "cell_type": "code",
   "execution_count": 18,
   "metadata": {},
   "outputs": [
    {
     "name": "stdout",
     "output_type": "stream",
     "text": [
      "    1   2   3\n",
      "   --- --- ---\n",
      "A |   |   |   |\n",
      "   --- --- ---\n",
      "B |   |   |   |\n",
      "   --- --- ---\n",
      "C |   |   |   |\n",
      "   --- --- ---\n"
     ]
    }
   ],
   "source": [
    "# Test your solution here\n",
    "board = [ [0,0,0],\n",
    "          [0,0,0],\n",
    "          [0,0,0]]\n",
    "\n",
    "new_disp(board)"
   ]
  },
  {
   "cell_type": "markdown",
   "metadata": {},
   "source": [
    "*Exercise 7:* Write a function that takes a board, player number, and location specified as in exercise 6 and then calls exercise 5 to correctly modify the board.  "
   ]
  },
  {
   "cell_type": "code",
   "execution_count": 19,
   "metadata": {},
   "outputs": [],
   "source": [
    "# Write you solution here\n",
    "def placement(board,player,letter,num):\n",
    "    \n",
    "    num_rows = len(board)\n",
    "    num_cols = len(board[0])\n",
    "    \n",
    "    for row in range(num_rows):\n",
    "        if letter == chr(65+row):\n",
    "            letter = row\n",
    "            \n",
    "    for column in range(num_cols):\n",
    "        if num == str(column+1):\n",
    "            num = column\n",
    "            \n",
    "    if board[letter][num] == 0:\n",
    "        board[letter][num] = player\n",
    "        new_disp(board)\n",
    "        return True\n",
    "    \n",
    "    new_disp(board)\n",
    "    return False"
   ]
  },
  {
   "cell_type": "code",
   "execution_count": 20,
   "metadata": {},
   "outputs": [
    {
     "name": "stdout",
     "output_type": "stream",
     "text": [
      "    1   2   3\n",
      "   --- --- ---\n",
      "A |   |   | X |\n",
      "   --- --- ---\n",
      "B |   |   |   |\n",
      "   --- --- ---\n",
      "C | X |   |   |\n",
      "   --- --- ---\n"
     ]
    }
   ],
   "source": [
    "# Test your solution here\n",
    "board = [ [0,0,1],\n",
    "          [0,0,0],\n",
    "          [1,0,0]]\n",
    "\n",
    "new_disp(board)"
   ]
  },
  {
   "cell_type": "code",
   "execution_count": 21,
   "metadata": {},
   "outputs": [
    {
     "name": "stdout",
     "output_type": "stream",
     "text": [
      "    1   2   3\n",
      "   --- --- ---\n",
      "A |   |   | X |\n",
      "   --- --- ---\n",
      "B |   | O |   |\n",
      "   --- --- ---\n",
      "C | X |   |   |\n",
      "   --- --- ---\n"
     ]
    },
    {
     "data": {
      "text/plain": [
       "True"
      ]
     },
     "execution_count": 21,
     "metadata": {},
     "output_type": "execute_result"
    }
   ],
   "source": [
    "placement(board,2,\"B\",\"2\")"
   ]
  },
  {
   "cell_type": "code",
   "execution_count": 22,
   "metadata": {},
   "outputs": [
    {
     "name": "stdout",
     "output_type": "stream",
     "text": [
      "    1   2   3\n",
      "   --- --- ---\n",
      "A |   |   | X |\n",
      "   --- --- ---\n",
      "B |   | O |   |\n",
      "   --- --- ---\n",
      "C | X |   | X |\n",
      "   --- --- ---\n"
     ]
    },
    {
     "data": {
      "text/plain": [
       "True"
      ]
     },
     "execution_count": 22,
     "metadata": {},
     "output_type": "execute_result"
    }
   ],
   "source": [
    "placement(board,1,\"C\",\"3\")"
   ]
  },
  {
   "cell_type": "code",
   "execution_count": 23,
   "metadata": {},
   "outputs": [
    {
     "name": "stdout",
     "output_type": "stream",
     "text": [
      "    1   2   3\n",
      "   --- --- ---\n",
      "A |   |   | X |\n",
      "   --- --- ---\n",
      "B |   | O |   |\n",
      "   --- --- ---\n",
      "C | X |   | X |\n",
      "   --- --- ---\n"
     ]
    },
    {
     "data": {
      "text/plain": [
       "False"
      ]
     },
     "execution_count": 23,
     "metadata": {},
     "output_type": "execute_result"
    }
   ],
   "source": [
    "placement(board,1,\"B\",\"2\")"
   ]
  },
  {
   "cell_type": "markdown",
   "metadata": {},
   "source": [
    "*Exercise 8:* Write a function is called with a board and player number, takes input from the player using python's `input`, and modifies the board using your function from exercise 7. Note that you should keep asking for input until you have gotten a valid input that results in a valid move."
   ]
  },
  {
   "cell_type": "code",
   "execution_count": 24,
   "metadata": {},
   "outputs": [],
   "source": [
    "# Write you solution here\n",
    "def choose_position(board,player):\n",
    "    \n",
    "    new_disp(board)\n",
    "    \n",
    "    num_rows = len(board)\n",
    "    num_cols = len(board[0])\n",
    "    \n",
    "    letter = ' '\n",
    "    num = ' '\n",
    "        \n",
    "    while letter not in [chr(65 + i) for i in range(num_rows)]:\n",
    "        letter = input(f\"Player {player}, choose a row letter. \")\n",
    "\n",
    "    while num not in [str(i) for i in range(1, num_cols + 1)]:\n",
    "        num = input(\"Choose a column number. \")\n",
    "    \n",
    "    if placement(board,player,letter,num) == False: \n",
    "        print(\"Uh oh, there's already a marker there! Let's try again.\")\n",
    "        choose_position(board,player)"
   ]
  },
  {
   "cell_type": "code",
   "execution_count": 25,
   "metadata": {},
   "outputs": [],
   "source": [
    "# Test your solution here\n",
    "board = [ [0,0,0],\n",
    "          [0,0,0],\n",
    "          [0,0,0]]\n"
   ]
  },
  {
   "cell_type": "code",
   "execution_count": 26,
   "metadata": {
    "scrolled": true
   },
   "outputs": [],
   "source": [
    "# choose_position(board,2)"
   ]
  },
  {
   "cell_type": "code",
   "execution_count": 27,
   "metadata": {},
   "outputs": [],
   "source": [
    "# choose_position(board,1)"
   ]
  },
  {
   "cell_type": "markdown",
   "metadata": {},
   "source": [
    "*Exercise 9:* Use all of the previous exercises to implement a full tic-tac-toe game, where an appropriate board is drawn, 2 players are repeatedly asked for a location coordinates of where they wish to place a mark, and the game status is checked until a player wins or a draw occurs."
   ]
  },
  {
   "cell_type": "code",
   "execution_count": 28,
   "metadata": {},
   "outputs": [],
   "source": [
    "# Write you solution here\n",
    "\n",
    "from IPython.display import clear_output\n",
    "import random\n",
    "\n",
    "def lets_play(board):\n",
    "    \n",
    "    play = ' '\n",
    "    \n",
    "    while play != 'N' and play != 'Y':\n",
    "        play = input(\"Welcome to Tic Tac Toe! Would like to play (Y/N)? \")\n",
    "        \n",
    "        if play == 'Y':\n",
    "            game_on = True\n",
    "        else:\n",
    "            break\n",
    "\n",
    "    new_disp(board)\n",
    "            \n",
    "    while game_on:\n",
    "        \n",
    "        turn = 1\n",
    "        \n",
    "        player_1 = 1\n",
    "        player_2 = 2\n",
    "    \n",
    "            \n",
    "        while turn == 1:\n",
    "            choose_position(board,player_1)\n",
    "            check(board)\n",
    "            if check(board) == -1:\n",
    "                turn = 2\n",
    "            elif check(board) == 1:\n",
    "                print(\"X won!\")\n",
    "                game_on = False\n",
    "                break\n",
    "            elif check(board) == 2:\n",
    "                print(\"O won!\")\n",
    "                game_on = False\n",
    "                break\n",
    "            else:\n",
    "                print(\"There's a draw!\")\n",
    "                game_on = False\n",
    "                break\n",
    "            break\n",
    "                \n",
    "        while turn == 2:\n",
    "            choose_position(board,player_2)\n",
    "            check(board)\n",
    "            if check(board) == -1:\n",
    "                turn = 1\n",
    "                break\n",
    "            elif check(board) == 1:\n",
    "                print(\"X won!\")\n",
    "                game_on = False\n",
    "                break\n",
    "            elif check(board) == 2:\n",
    "                print(\"O won!\")\n",
    "                game_on = False\n",
    "                break\n",
    "            else:\n",
    "                print(\"There's a draw!\")\n",
    "                game_on = False\n",
    "                break\n",
    "            break\n",
    "                \n",
    "    while not game_on:\n",
    "        \n",
    "        turn_off = ' '\n",
    "        \n",
    "        while turn_off != 'N' and turn_off != 'Y':\n",
    "            turn_off = input(\"Would you like play again Y/N? \")\n",
    "        \n",
    "        if turn_off == 'Y':\n",
    "            game_on = True\n",
    "            break\n",
    "        else:\n",
    "            break"
   ]
  },
  {
   "cell_type": "code",
   "execution_count": 33,
   "metadata": {},
   "outputs": [
    {
     "name": "stdout",
     "output_type": "stream",
     "text": [
      "    1   2   3\n",
      "   --- --- ---\n",
      "A | X |   | O |\n",
      "   --- --- ---\n",
      "B |   | X |   |\n",
      "   --- --- ---\n",
      "C | O |   | X |\n",
      "   --- --- ---\n",
      " --- --- ---\n",
      "| X |   | O |\n",
      " --- --- ---\n",
      "|   | X |   |\n",
      " --- --- ---\n",
      "| O |   | X |\n",
      " --- --- ---\n",
      " --- --- ---\n",
      "| X |   | O |\n",
      " --- --- ---\n",
      "|   | X |   |\n",
      " --- --- ---\n",
      "| O |   | X |\n",
      " --- --- ---\n",
      " --- --- ---\n",
      "| X |   | O |\n",
      " --- --- ---\n",
      "|   | X |   |\n",
      " --- --- ---\n",
      "| O |   | X |\n",
      " --- --- ---\n",
      "X won!\n",
      "Would you like play again Y/N? N\n"
     ]
    }
   ],
   "source": [
    "# Test your solution here\n",
    "board = [ [0,0,0],\n",
    "          [0,0,0],\n",
    "          [0,0,0]]\n",
    "\n",
    "lets_play(board)"
   ]
  },
  {
   "cell_type": "markdown",
   "metadata": {},
   "source": [
    "*Exercise 10:* Test that your game works for 5x5 Tic Tac Toe.  "
   ]
  },
  {
   "cell_type": "code",
   "execution_count": 31,
   "metadata": {},
   "outputs": [
    {
     "name": "stdout",
     "output_type": "stream",
     "text": [
      "    1   2   3   4   5\n",
      "   --- --- --- --- ---\n",
      "A | X |   |   |   | O |\n",
      "   --- --- --- --- ---\n",
      "B |   | X |   | O |   |\n",
      "   --- --- --- --- ---\n",
      "C |   |   | X |   |   |\n",
      "   --- --- --- --- ---\n",
      "D |   | O |   | X |   |\n",
      "   --- --- --- --- ---\n",
      "E | O |   |   |   | X |\n",
      "   --- --- --- --- ---\n",
      " --- --- --- --- ---\n",
      "| X |   |   |   | O |\n",
      " --- --- --- --- ---\n",
      "|   | X |   | O |   |\n",
      " --- --- --- --- ---\n",
      "|   |   | X |   |   |\n",
      " --- --- --- --- ---\n",
      "|   | O |   | X |   |\n",
      " --- --- --- --- ---\n",
      "| O |   |   |   | X |\n",
      " --- --- --- --- ---\n",
      " --- --- --- --- ---\n",
      "| X |   |   |   | O |\n",
      " --- --- --- --- ---\n",
      "|   | X |   | O |   |\n",
      " --- --- --- --- ---\n",
      "|   |   | X |   |   |\n",
      " --- --- --- --- ---\n",
      "|   | O |   | X |   |\n",
      " --- --- --- --- ---\n",
      "| O |   |   |   | X |\n",
      " --- --- --- --- ---\n",
      " --- --- --- --- ---\n",
      "| X |   |   |   | O |\n",
      " --- --- --- --- ---\n",
      "|   | X |   | O |   |\n",
      " --- --- --- --- ---\n",
      "|   |   | X |   |   |\n",
      " --- --- --- --- ---\n",
      "|   | O |   | X |   |\n",
      " --- --- --- --- ---\n",
      "| O |   |   |   | X |\n",
      " --- --- --- --- ---\n",
      "X won!\n",
      "Would you like play again Y/N? N\n"
     ]
    }
   ],
   "source": [
    "# Test your solution here\n",
    "\n",
    "board = [ [0,0,0,0,0],\n",
    "          [0,0,0,0,0],\n",
    "          [0,0,0,0,0],\n",
    "          [0,0,0,0,0],\n",
    "          [0,0,0,0,0]]\n",
    "\n",
    "lets_play(board)"
   ]
  },
  {
   "cell_type": "markdown",
   "metadata": {},
   "source": [
    "*Exercise 11:* (Advanced / Challenge) Develop a version of the game where one player is the computer. Note that you don't need to do an extensive seach for the best move. You can have the computer simply protect against loosing and otherwise try to win with straight or diagonal patterns."
   ]
  },
  {
   "cell_type": "code",
   "execution_count": null,
   "metadata": {},
   "outputs": [],
   "source": [
    "# Write you solution here"
   ]
  },
  {
   "cell_type": "code",
   "execution_count": null,
   "metadata": {},
   "outputs": [],
   "source": [
    "# Test your solution here"
   ]
  }
 ],
 "metadata": {
  "kernelspec": {
   "display_name": "Python 3 (ipykernel)",
   "language": "python",
   "name": "python3"
  },
  "language_info": {
   "codemirror_mode": {
    "name": "ipython",
    "version": 3
   },
   "file_extension": ".py",
   "mimetype": "text/x-python",
   "name": "python",
   "nbconvert_exporter": "python",
   "pygments_lexer": "ipython3",
   "version": "3.10.12"
  }
 },
 "nbformat": 4,
 "nbformat_minor": 4
}
