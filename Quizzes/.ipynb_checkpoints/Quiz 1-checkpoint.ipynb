{
 "cells": [
  {
   "cell_type": "code",
   "execution_count": 3,
   "id": "7803021b",
   "metadata": {},
   "outputs": [
    {
     "ename": "TypeError",
     "evalue": "object of type 'int' has no len()",
     "output_type": "error",
     "traceback": [
      "\u001b[1;31m---------------------------------------------------------------------------\u001b[0m",
      "\u001b[1;31mTypeError\u001b[0m                                 Traceback (most recent call last)",
      "\u001b[1;32m~\\AppData\\Local\\Temp/ipykernel_11992/2103467685.py\u001b[0m in \u001b[0;36m<module>\u001b[1;34m\u001b[0m\n\u001b[0;32m      4\u001b[0m \u001b[1;33m\u001b[0m\u001b[0m\n\u001b[0;32m      5\u001b[0m \u001b[1;32mfor\u001b[0m \u001b[0mi\u001b[0m \u001b[1;32min\u001b[0m \u001b[0margs\u001b[0m\u001b[1;33m:\u001b[0m\u001b[1;33m\u001b[0m\u001b[1;33m\u001b[0m\u001b[0m\n\u001b[1;32m----> 6\u001b[1;33m     \u001b[1;32mif\u001b[0m \u001b[0mlen\u001b[0m\u001b[1;33m(\u001b[0m\u001b[0mi\u001b[0m\u001b[1;33m)\u001b[0m \u001b[1;33m>\u001b[0m \u001b[0mmax_length\u001b[0m\u001b[1;33m:\u001b[0m\u001b[1;33m\u001b[0m\u001b[1;33m\u001b[0m\u001b[0m\n\u001b[0m\u001b[0;32m      7\u001b[0m         \u001b[0mmax_length\u001b[0m \u001b[1;33m=\u001b[0m \u001b[0mlen\u001b[0m\u001b[1;33m(\u001b[0m\u001b[0mi\u001b[0m\u001b[1;33m)\u001b[0m\u001b[1;33m\u001b[0m\u001b[1;33m\u001b[0m\u001b[0m\n\u001b[0;32m      8\u001b[0m \u001b[1;33m\u001b[0m\u001b[0m\n",
      "\u001b[1;31mTypeError\u001b[0m: object of type 'int' has no len()"
     ]
    }
   ],
   "source": [
    "args = [ [1,2], [1,2,3], [1,2,3,4], 1]\n",
    "\n",
    "max_length = 0\n",
    "\n",
    "for i in args:\n",
    "    if len(i) > max_length:\n",
    "        max_length = len(i)\n",
    "        \n",
    "print(max_length)"
   ]
  },
  {
   "cell_type": "markdown",
   "id": "3e36824d",
   "metadata": {},
   "source": [
    "Won't work because the last element, 1, is an int. You can't do len() on this.\n",
    "\n",
    "You'll need to use **isinstance**"
   ]
  },
  {
   "cell_type": "code",
   "execution_count": 4,
   "id": "c32c60eb",
   "metadata": {},
   "outputs": [
    {
     "name": "stdout",
     "output_type": "stream",
     "text": [
      "False\n",
      "True\n"
     ]
    }
   ],
   "source": [
    "a = 1\n",
    "print(isinstance(a,list))\n",
    "print(isinstance(a,int))"
   ]
  },
  {
   "cell_type": "code",
   "execution_count": 5,
   "id": "5fa29108",
   "metadata": {},
   "outputs": [
    {
     "name": "stdout",
     "output_type": "stream",
     "text": [
      "4\n"
     ]
    }
   ],
   "source": [
    "args = [ [1,2], [1,2,3], [1,2,3,4], 1]\n",
    "\n",
    "max_length = 0\n",
    "\n",
    "for i in args:\n",
    "    if isinstance(i,list):\n",
    "        if len(i) > max_length:\n",
    "            max_length = len(i)\n",
    "            \n",
    "print(max_length)"
   ]
  },
  {
   "cell_type": "markdown",
   "id": "28239956",
   "metadata": {},
   "source": [
    "You can compact this using **filter** and **map**.\n",
    "\n",
    "+ **map( func, iterables )** this applies the function to the iterables and creates an iterable object. You can then list(map()) to get a list of the new iterables.\n",
    "\n",
    "+ **filter( function , iterables )** this applies function to iterables and see which one comes out as true. It will keep the iterables that are true for the function"
   ]
  },
  {
   "cell_type": "code",
   "execution_count": 18,
   "id": "5e3bd289",
   "metadata": {},
   "outputs": [
    {
     "data": {
      "text/plain": [
       "[1, 4, 9, 16]"
      ]
     },
     "execution_count": 18,
     "metadata": {},
     "output_type": "execute_result"
    }
   ],
   "source": [
    "def square(n):\n",
    "    return n**2\n",
    "\n",
    "list( map(square, [1,2,3,4]) )"
   ]
  },
  {
   "cell_type": "code",
   "execution_count": 22,
   "id": "3e6ad1ea",
   "metadata": {},
   "outputs": [
    {
     "data": {
      "text/plain": [
       "[2, 4]"
      ]
     },
     "execution_count": 22,
     "metadata": {},
     "output_type": "execute_result"
    }
   ],
   "source": [
    "def fun(variables):\n",
    "    \n",
    "    num = [2,4,6,8]\n",
    "    \n",
    "    if variables in num:\n",
    "        return True\n",
    "    else:\n",
    "        return False\n",
    "\n",
    "list( filter( fun, [1,2,3,4]) )"
   ]
  },
  {
   "cell_type": "code",
   "execution_count": 24,
   "id": "8fdfd253",
   "metadata": {},
   "outputs": [
    {
     "name": "stdout",
     "output_type": "stream",
     "text": [
      "4\n"
     ]
    }
   ],
   "source": [
    "max_length = max( map(len, filter(lambda x: isinstance(x,list), args)))\n",
    "\n",
    "# First, we are filtering out what elements in args is NOT a list (1)\n",
    "    # filter( lambda x: isintance(x,list), args)\n",
    "    \n",
    "# Then, we are mapping out the length of eache element that is NOT a list.\n",
    "# think of it like making a list of the length of each list.\n",
    "    # map(len, *)\n",
    "    \n",
    "# With that, we are taking the max of the lengths, giving us our max_length\n",
    "    # max( map( filter() ) )\n",
    "    \n",
    "print(max_length)"
   ]
  },
  {
   "cell_type": "markdown",
   "id": "2beea758",
   "metadata": {},
   "source": [
    "Next, we'll have to check that every argument is of the same length, and make lists out of ones that are not lists:"
   ]
  },
  {
   "cell_type": "code",
   "execution_count": 43,
   "id": "b2ac56d7",
   "metadata": {},
   "outputs": [],
   "source": [
    "def create_new_args(args):\n",
    "    \n",
    "    max_length = max( map(len, filter(lambda x: isinstance(x,list), args)))\n",
    "    \n",
    "    new_args = list()\n",
    "    \n",
    "    for a in args:\n",
    "        if not isinstance(a,list):\n",
    "            a0 = [a] * max_length\n",
    "        elif len(a) != max_length:\n",
    "            print(\"Error: all list arguments must have same length\")\n",
    "            return\n",
    "        else:\n",
    "            a0 = a\n",
    "            \n",
    "        new_args.append(a0)\n",
    "            \n",
    "    \n",
    "    print(new_args)"
   ]
  },
  {
   "cell_type": "code",
   "execution_count": 44,
   "id": "5150f785",
   "metadata": {},
   "outputs": [
    {
     "name": "stdout",
     "output_type": "stream",
     "text": [
      "Error: all list arguments must have same length\n"
     ]
    }
   ],
   "source": [
    "create_new_args(args)"
   ]
  },
  {
   "cell_type": "code",
   "execution_count": 45,
   "id": "380f3b9f",
   "metadata": {},
   "outputs": [
    {
     "name": "stdout",
     "output_type": "stream",
     "text": [
      "[[1, 2, 2, 1], [1, 2, 3, 4], [1, 2, 3, 4], [1, 1, 1, 1]]\n"
     ]
    }
   ],
   "source": [
    "lst = [ [1,2,2,1], [1,2,3,4], [1,2,3,4], 1]\n",
    "\n",
    "create_new_args(lst)"
   ]
  },
  {
   "cell_type": "markdown",
   "id": "f5c9750c",
   "metadata": {},
   "source": [
    "# Quick Quiz\n",
    "\n",
    "Can you rewrite 'create_new_args' as a two lines of code using functional programming, list comprehensions, and shortcuts? How about a single line?"
   ]
  },
  {
   "cell_type": "code",
   "execution_count": null,
   "id": "89a9f407",
   "metadata": {},
   "outputs": [],
   "source": [
    "def create_new_args_0(args):\n",
    "    max_len = max(map(len,\n",
    "                      filter(lambda x: isinstance(x,list),\n",
    "                        args)))\n",
    "\n",
    "    # Rewrite this section:\n",
    "    new_args=list()\n",
    "\n",
    "    for a in args:\n",
    "        if not isinstance(a,list):\n",
    "            a0=[a]*max_len\n",
    "        elif len(a)!=max_len:\n",
    "            print(\"Error: all list arguments must have same length.\")\n",
    "            return\n",
    "        else:\n",
    "            a0=a\n",
    "        new_args.append(a0)\n",
    "\n",
    "    return new_args"
   ]
  },
  {
   "cell_type": "code",
   "execution_count": 47,
   "id": "8ca9cd0c",
   "metadata": {},
   "outputs": [
    {
     "ename": "SyntaxError",
     "evalue": "invalid syntax (Temp/ipykernel_11992/3254938503.py, line 6)",
     "output_type": "error",
     "traceback": [
      "\u001b[1;36m  File \u001b[1;32m\"C:\\Users\\sarah\\AppData\\Local\\Temp/ipykernel_11992/3254938503.py\"\u001b[1;36m, line \u001b[1;32m6\u001b[0m\n\u001b[1;33m    new_args = list(a0=[a]*max_len if not isinstance(a,list) else print(\"Error: all list arguments must have same length\") if len(a)!=max_len else a0 = a for a in args)\u001b[0m\n\u001b[1;37m                                                                                                                                                      ^\u001b[0m\n\u001b[1;31mSyntaxError\u001b[0m\u001b[1;31m:\u001b[0m invalid syntax\n"
     ]
    }
   ],
   "source": [
    "def create_new_args_0(args):\n",
    "    max_len = max(map(len,\n",
    "                      filter(lambda x: isinstance(x,list),\n",
    "                        args)))\n",
    "    \n",
    "    new_args = (a0=[a]*max_len if not isinstance(a,list) else print(\"Error: all list arguments must have same length\") if len(a)!=max_len else a0 = a for a in args)"
   ]
  },
  {
   "cell_type": "code",
   "execution_count": 63,
   "id": "435c3a08",
   "metadata": {},
   "outputs": [
    {
     "ename": "SyntaxError",
     "evalue": "cannot assign to conditional expression (Temp/ipykernel_11992/2470789431.py, line 9)",
     "output_type": "error",
     "traceback": [
      "\u001b[1;36m  File \u001b[1;32m\"C:\\Users\\sarah\\AppData\\Local\\Temp/ipykernel_11992/2470789431.py\"\u001b[1;36m, line \u001b[1;32m9\u001b[0m\n\u001b[1;33m    new_args.append( list( filter(lambda x: not isinstance(x,list), args) ) * max_length ) \\\u001b[0m\n\u001b[1;37m    ^\u001b[0m\n\u001b[1;31mSyntaxError\u001b[0m\u001b[1;31m:\u001b[0m cannot assign to conditional expression\n"
     ]
    }
   ],
   "source": [
    "args = [ [1,2], [3,4], 1]\n",
    "\n",
    "def create_new_args_0(args):\n",
    "    max_length = max(map(len,\n",
    "                      filter(lambda x: isinstance(x,list),\n",
    "                        args)))\n",
    "    new_args = list()\n",
    "\n",
    "    new_args.append( list( filter(lambda x: not isinstance(x,list), args) ) * max_length ) \\\n",
    "    if not isinstance(a,list) else print(\"error\") if len(a)!= max_length else a0=a \\\n",
    "    for a in args"
   ]
  },
  {
   "cell_type": "code",
   "execution_count": 60,
   "id": "b73961bb",
   "metadata": {},
   "outputs": [
    {
     "ename": "TypeError",
     "evalue": "list.append() takes exactly one argument (2 given)",
     "output_type": "error",
     "traceback": [
      "\u001b[1;31m---------------------------------------------------------------------------\u001b[0m",
      "\u001b[1;31mTypeError\u001b[0m                                 Traceback (most recent call last)",
      "\u001b[1;32m~\\AppData\\Local\\Temp/ipykernel_11992/4072443915.py\u001b[0m in \u001b[0;36m<module>\u001b[1;34m\u001b[0m\n\u001b[0;32m      1\u001b[0m \u001b[0mlst\u001b[0m \u001b[1;33m=\u001b[0m \u001b[1;33m[\u001b[0m\u001b[1;33m]\u001b[0m\u001b[1;33m\u001b[0m\u001b[1;33m\u001b[0m\u001b[0m\n\u001b[0;32m      2\u001b[0m \u001b[1;33m\u001b[0m\u001b[0m\n\u001b[1;32m----> 3\u001b[1;33m \u001b[0mlst\u001b[0m\u001b[1;33m.\u001b[0m\u001b[0mappend\u001b[0m\u001b[1;33m(\u001b[0m\u001b[1;36m1\u001b[0m\u001b[1;33m,\u001b[0m\u001b[1;36m2\u001b[0m\u001b[1;33m)\u001b[0m\u001b[1;33m\u001b[0m\u001b[1;33m\u001b[0m\u001b[0m\n\u001b[0m",
      "\u001b[1;31mTypeError\u001b[0m: list.append() takes exactly one argument (2 given)"
     ]
    }
   ],
   "source": []
  },
  {
   "cell_type": "code",
   "execution_count": null,
   "id": "7154e61a",
   "metadata": {},
   "outputs": [],
   "source": []
  }
 ],
 "metadata": {
  "kernelspec": {
   "display_name": "Python 3 (ipykernel)",
   "language": "python",
   "name": "python3"
  },
  "language_info": {
   "codemirror_mode": {
    "name": "ipython",
    "version": 3
   },
   "file_extension": ".py",
   "mimetype": "text/x-python",
   "name": "python",
   "nbconvert_exporter": "python",
   "pygments_lexer": "ipython3",
   "version": "3.9.7"
  }
 },
 "nbformat": 4,
 "nbformat_minor": 5
}
